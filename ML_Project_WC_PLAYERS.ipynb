{
  "nbformat": 4,
  "nbformat_minor": 0,
  "metadata": {
    "colab": {
      "name": "ML_Project_WC_PLAYERS.ipynb",
      "provenance": [],
      "collapsed_sections": [],
      "toc_visible": true,
      "include_colab_link": true
    },
    "kernelspec": {
      "name": "python3",
      "display_name": "Python 3"
    }
  },
  "cells": [
    {
      "cell_type": "markdown",
      "metadata": {
        "id": "view-in-github",
        "colab_type": "text"
      },
      "source": [
        "<a href=\"https://colab.research.google.com/github/shin-iji/sklearn-ml/blob/main/ML_Project_WC_PLAYERS.ipynb\" target=\"_parent\"><img src=\"https://colab.research.google.com/assets/colab-badge.svg\" alt=\"Open In Colab\"/></a>"
      ]
    },
    {
      "cell_type": "markdown",
      "metadata": {
        "id": "iZf46m__tPAh"
      },
      "source": [
        "#Mechine Learning Project - League of Legends: World Championship 2019"
      ]
    },
    {
      "cell_type": "markdown",
      "metadata": {
        "id": "k5sCGl2AKbQC"
      },
      "source": [
        "## Data Explanation"
      ]
    },
    {
      "cell_type": "code",
      "metadata": {
        "id": "9u975GMzRCgb"
      },
      "source": [
        "import pandas as pd"
      ],
      "execution_count": null,
      "outputs": []
    },
    {
      "cell_type": "markdown",
      "metadata": {
        "id": "NAqXiU_PVmgM"
      },
      "source": [
        "**League of Legends: World Championship 2019** - เป็นข้อมูลการแข่งขันเกม League of Legends บนเวที World Championship ปี 2019 ข้อมูลที่นำมาคิดมาจากข้อมูลเกี่ยวกับผู้เล่นทุกคนที่มีส่วนร่วมในการแข่งทุกเกมในรอบ Play-ins และ Main Event รวมทั้งหมด 1426 แถว โดยค่าที่เราเลือกมาคิดมี 11 คอลัมจากทั้งหมด 91 คอลัม มีดังนี้\r\n",
        "\r\n",
        "1. side : ฝั่งที่ผู้เล่นอยู่\r\n",
        "2. position : ตำแหน่งที่ผู้เล่นอยู่\r\n",
        "3. team : ทีมที่ผู้เล่นสังกัดอยู่\r\n",
        "4. result : ผลแพ้ชนะ ถ้าชนะให้ค่าเป็น 1 ถ้าแพ้ให้ค่าเป็น 0\r\n",
        "\r\n",
        "ต่อไปเป็นข้อมูลที่ผู้เล่นได้กระทำในเกม\r\n",
        "\r\n",
        "5. k : Kill ยอดการสังหารศัตรู\r\n",
        "6. d : Death ยอดการตายในเกม\r\n",
        "7. a : Assist ยอดการมีส่วนร่วมในการสังหาร\r\n",
        "8. fb : First Blood เป็นคนที่สังหารศัตรูแต้มแรกของเกม ถ้าใช่ให้ค่าเป็น 1 ถ้าไม่ใช่ให้ค่าเป็น 0\r\n",
        "\r\n",
        "นอกจากการสังหารศัตรูแล้ว การได้ Objective ในเกมก็เป็นตัวแปรหนึ่งที่มีผลกับความได้เปรียบในเกม ซึ่งจะมีมังกร (Dragon) และบารอน (Baron)\r\n",
        "\r\n",
        "9. teamdragkills : Team Dragon Kill ยอดการสังหารมังกรของทีม\r\n",
        "10. teambaronkills : Team Baron Kill ยอดการสังหารบารอนของทีม\r\n",
        "\r\n",
        "สุดท้าย การเงินของผู้เล่นใน 15 นาทีแรก ยิ่งมีเงินในช่วงต้นเกมมาก จะสามารถซื้อไอเท็มที่ดีกว่าได้เร็ว และยิ่งได้เปรียบทีมฝ่ายตรงข้าม\r\n",
        "\r\n",
        "11. totalgold : Total Golds in First 15 Minutes การเงินของผู้เล่นในช่วง 15 นาทีแรก"
      ]
    },
    {
      "cell_type": "code",
      "metadata": {
        "colab": {
          "base_uri": "https://localhost:8080/",
          "height": 204
        },
        "id": "Zj5BYcQN4vVg",
        "outputId": "184ba85e-29a7-4d0e-9fbe-dbe85e5b6cdc"
      },
      "source": [
        "df = pd.read_csv('https://raw.githubusercontent.com/shin-iji/sklearn-ml/main/wc_players.csv')\n",
        "df.drop(df.columns.difference(['side','position','team','result','k','d','a','fb','teamdragkills','teambaronkills','totalgold']), 1, inplace=True)\n",
        "df.head()"
      ],
      "execution_count": null,
      "outputs": [
        {
          "output_type": "execute_result",
          "data": {
            "text/html": [
              "<div>\n",
              "<style scoped>\n",
              "    .dataframe tbody tr th:only-of-type {\n",
              "        vertical-align: middle;\n",
              "    }\n",
              "\n",
              "    .dataframe tbody tr th {\n",
              "        vertical-align: top;\n",
              "    }\n",
              "\n",
              "    .dataframe thead th {\n",
              "        text-align: right;\n",
              "    }\n",
              "</style>\n",
              "<table border=\"1\" class=\"dataframe\">\n",
              "  <thead>\n",
              "    <tr style=\"text-align: right;\">\n",
              "      <th></th>\n",
              "      <th>side</th>\n",
              "      <th>position</th>\n",
              "      <th>team</th>\n",
              "      <th>result</th>\n",
              "      <th>k</th>\n",
              "      <th>d</th>\n",
              "      <th>a</th>\n",
              "      <th>fb</th>\n",
              "      <th>teamdragkills</th>\n",
              "      <th>teambaronkills</th>\n",
              "      <th>totalgold</th>\n",
              "    </tr>\n",
              "  </thead>\n",
              "  <tbody>\n",
              "    <tr>\n",
              "      <th>0</th>\n",
              "      <td>Blue</td>\n",
              "      <td>Top</td>\n",
              "      <td>DetonatioN FocusMe</td>\n",
              "      <td>0</td>\n",
              "      <td>0</td>\n",
              "      <td>4</td>\n",
              "      <td>4</td>\n",
              "      <td>0</td>\n",
              "      <td>1</td>\n",
              "      <td>0</td>\n",
              "      <td>8407</td>\n",
              "    </tr>\n",
              "    <tr>\n",
              "      <th>1</th>\n",
              "      <td>Blue</td>\n",
              "      <td>Jungle</td>\n",
              "      <td>DetonatioN FocusMe</td>\n",
              "      <td>0</td>\n",
              "      <td>1</td>\n",
              "      <td>4</td>\n",
              "      <td>5</td>\n",
              "      <td>0</td>\n",
              "      <td>1</td>\n",
              "      <td>0</td>\n",
              "      <td>7463</td>\n",
              "    </tr>\n",
              "    <tr>\n",
              "      <th>2</th>\n",
              "      <td>Blue</td>\n",
              "      <td>Middle</td>\n",
              "      <td>DetonatioN FocusMe</td>\n",
              "      <td>0</td>\n",
              "      <td>1</td>\n",
              "      <td>5</td>\n",
              "      <td>6</td>\n",
              "      <td>0</td>\n",
              "      <td>1</td>\n",
              "      <td>0</td>\n",
              "      <td>8484</td>\n",
              "    </tr>\n",
              "    <tr>\n",
              "      <th>3</th>\n",
              "      <td>Blue</td>\n",
              "      <td>ADC</td>\n",
              "      <td>DetonatioN FocusMe</td>\n",
              "      <td>0</td>\n",
              "      <td>3</td>\n",
              "      <td>4</td>\n",
              "      <td>1</td>\n",
              "      <td>0</td>\n",
              "      <td>1</td>\n",
              "      <td>0</td>\n",
              "      <td>10624</td>\n",
              "    </tr>\n",
              "    <tr>\n",
              "      <th>4</th>\n",
              "      <td>Blue</td>\n",
              "      <td>Support</td>\n",
              "      <td>DetonatioN FocusMe</td>\n",
              "      <td>0</td>\n",
              "      <td>2</td>\n",
              "      <td>5</td>\n",
              "      <td>2</td>\n",
              "      <td>0</td>\n",
              "      <td>1</td>\n",
              "      <td>0</td>\n",
              "      <td>6249</td>\n",
              "    </tr>\n",
              "  </tbody>\n",
              "</table>\n",
              "</div>"
            ],
            "text/plain": [
              "   side position                team  ...  teamdragkills  teambaronkills  totalgold\n",
              "0  Blue      Top  DetonatioN FocusMe  ...              1               0       8407\n",
              "1  Blue   Jungle  DetonatioN FocusMe  ...              1               0       7463\n",
              "2  Blue   Middle  DetonatioN FocusMe  ...              1               0       8484\n",
              "3  Blue      ADC  DetonatioN FocusMe  ...              1               0      10624\n",
              "4  Blue  Support  DetonatioN FocusMe  ...              1               0       6249\n",
              "\n",
              "[5 rows x 11 columns]"
            ]
          },
          "metadata": {
            "tags": []
          },
          "execution_count": 156
        }
      ]
    },
    {
      "cell_type": "markdown",
      "metadata": {
        "id": "UgttAgvOhXdk"
      },
      "source": [
        "**ค่าทางสถิติเบื้องต้น**\r\n",
        "* ยอดการสังหารศัตรู\r\n",
        "  * ค่าเฉลี่ย คือ 3\r\n",
        "  * ค่าต่ำสุด คือ 0\r\n",
        "  * ค่าสูงสุด คือ 13\r\n",
        "* ยอดการตายในเกม\r\n",
        "  * ค่าเฉลี่ย คือ 3\r\n",
        "  * ค่าต่ำสุด คือ 0\r\n",
        "  * ค่าสูงสุด คือ 10\r\n",
        "* ยอดการมีส่วนร่วมในการสังหาร\r\n",
        "  * ค่าเฉลี่ย คือ 6\r\n",
        "  * ค่าต่ำสุด คือ 0\r\n",
        "  * ค่าสูงสุด คือ 22\r\n",
        "* ยอดการสังหารมังกรของทีม\r\n",
        "  * ค่าเฉลี่ย คือ 2\r\n",
        "  * ค่าต่ำสุด คือ 0\r\n",
        "  * ค่าสูงสุด คือ 6\r\n",
        "* ยอดการสังหารบารอนของทีม\r\n",
        "  * ค่าเฉลี่ย คือ 1\r\n",
        "  * ค่าต่ำสุด คือ 0\r\n",
        "  * ค่าสูงสุด คือ 3\r\n",
        "* การเงินของผู้ในช่วง 15 นาทีแรก\r\n",
        "  * ค่าเฉลี่ย คือ 12044 Gold\r\n",
        "  * ค่าต่ำสุด คือ 4219 Gold\r\n",
        "  * ค่าสูงสุด คือ 31115 Gold\r\n",
        "* ตำแหน่งที่ผู้เล่นอยู่ มีทั้งหมด 5 ตำแหน่ง คือ Top, Jungle, Midle, ADC และ Support\r\n",
        "* จำนวนทีมที่เข้าร่วมการแข่งขัน มีทั้งหมด 24 ทีม คือ AHQ e-Sports Club, Cloud9, Clutch Gaming, Damwon Gaming, DetonatioN FocusMe, Flamengo, Fnatic, Funplus Phoenix, G2 Esports, GAM Esports, Griffin, Hong Kong Attitude, Invictus Gaming, Isurus Gaming, J Team, Lowkey Esports, MEGA Esports, Mammoth, Royal Never Give Up, Royal Youth, SK Telecom T1\t, Splyce, Team Liquid, Unicorns of Love\r\n",
        "* ฝั่งที่ผู้เล่นอยู่ มี 2 ฝั่ง คือ Red Side และ Blue Side เพราะในหนึ่งเกมจะมีการนำผู้เล่นจาก 2 ทีมมาแข่งกัน"
      ]
    },
    {
      "cell_type": "code",
      "metadata": {
        "colab": {
          "base_uri": "https://localhost:8080/",
          "height": 297
        },
        "id": "o0pAr5vl51yD",
        "outputId": "966685a0-a56c-4a85-993d-da639b6425da"
      },
      "source": [
        "df.describe()"
      ],
      "execution_count": null,
      "outputs": [
        {
          "output_type": "execute_result",
          "data": {
            "text/html": [
              "<div>\n",
              "<style scoped>\n",
              "    .dataframe tbody tr th:only-of-type {\n",
              "        vertical-align: middle;\n",
              "    }\n",
              "\n",
              "    .dataframe tbody tr th {\n",
              "        vertical-align: top;\n",
              "    }\n",
              "\n",
              "    .dataframe thead th {\n",
              "        text-align: right;\n",
              "    }\n",
              "</style>\n",
              "<table border=\"1\" class=\"dataframe\">\n",
              "  <thead>\n",
              "    <tr style=\"text-align: right;\">\n",
              "      <th></th>\n",
              "      <th>result</th>\n",
              "      <th>k</th>\n",
              "      <th>d</th>\n",
              "      <th>a</th>\n",
              "      <th>fb</th>\n",
              "      <th>teamdragkills</th>\n",
              "      <th>teambaronkills</th>\n",
              "      <th>totalgold</th>\n",
              "    </tr>\n",
              "  </thead>\n",
              "  <tbody>\n",
              "    <tr>\n",
              "      <th>count</th>\n",
              "      <td>1190.00000</td>\n",
              "      <td>1190.000000</td>\n",
              "      <td>1190.000000</td>\n",
              "      <td>1190.000000</td>\n",
              "      <td>1190.000000</td>\n",
              "      <td>1190.000000</td>\n",
              "      <td>1190.000000</td>\n",
              "      <td>1190.000000</td>\n",
              "    </tr>\n",
              "    <tr>\n",
              "      <th>mean</th>\n",
              "      <td>0.50000</td>\n",
              "      <td>2.648739</td>\n",
              "      <td>2.656303</td>\n",
              "      <td>5.694958</td>\n",
              "      <td>0.100000</td>\n",
              "      <td>2.226891</td>\n",
              "      <td>0.710084</td>\n",
              "      <td>12044.324370</td>\n",
              "    </tr>\n",
              "    <tr>\n",
              "      <th>std</th>\n",
              "      <td>0.50021</td>\n",
              "      <td>2.442815</td>\n",
              "      <td>1.816296</td>\n",
              "      <td>3.923176</td>\n",
              "      <td>0.300126</td>\n",
              "      <td>1.509360</td>\n",
              "      <td>0.742203</td>\n",
              "      <td>3705.488287</td>\n",
              "    </tr>\n",
              "    <tr>\n",
              "      <th>min</th>\n",
              "      <td>0.00000</td>\n",
              "      <td>0.000000</td>\n",
              "      <td>0.000000</td>\n",
              "      <td>0.000000</td>\n",
              "      <td>0.000000</td>\n",
              "      <td>0.000000</td>\n",
              "      <td>0.000000</td>\n",
              "      <td>4219.000000</td>\n",
              "    </tr>\n",
              "    <tr>\n",
              "      <th>25%</th>\n",
              "      <td>0.00000</td>\n",
              "      <td>1.000000</td>\n",
              "      <td>1.000000</td>\n",
              "      <td>3.000000</td>\n",
              "      <td>0.000000</td>\n",
              "      <td>1.000000</td>\n",
              "      <td>0.000000</td>\n",
              "      <td>9302.500000</td>\n",
              "    </tr>\n",
              "    <tr>\n",
              "      <th>50%</th>\n",
              "      <td>0.50000</td>\n",
              "      <td>2.000000</td>\n",
              "      <td>2.000000</td>\n",
              "      <td>5.000000</td>\n",
              "      <td>0.000000</td>\n",
              "      <td>2.000000</td>\n",
              "      <td>1.000000</td>\n",
              "      <td>11693.500000</td>\n",
              "    </tr>\n",
              "    <tr>\n",
              "      <th>75%</th>\n",
              "      <td>1.00000</td>\n",
              "      <td>4.000000</td>\n",
              "      <td>4.000000</td>\n",
              "      <td>8.000000</td>\n",
              "      <td>0.000000</td>\n",
              "      <td>3.000000</td>\n",
              "      <td>1.000000</td>\n",
              "      <td>14541.500000</td>\n",
              "    </tr>\n",
              "    <tr>\n",
              "      <th>max</th>\n",
              "      <td>1.00000</td>\n",
              "      <td>13.000000</td>\n",
              "      <td>10.000000</td>\n",
              "      <td>22.000000</td>\n",
              "      <td>1.000000</td>\n",
              "      <td>6.000000</td>\n",
              "      <td>3.000000</td>\n",
              "      <td>31115.000000</td>\n",
              "    </tr>\n",
              "  </tbody>\n",
              "</table>\n",
              "</div>"
            ],
            "text/plain": [
              "           result            k  ...  teambaronkills     totalgold\n",
              "count  1190.00000  1190.000000  ...     1190.000000   1190.000000\n",
              "mean      0.50000     2.648739  ...        0.710084  12044.324370\n",
              "std       0.50021     2.442815  ...        0.742203   3705.488287\n",
              "min       0.00000     0.000000  ...        0.000000   4219.000000\n",
              "25%       0.00000     1.000000  ...        0.000000   9302.500000\n",
              "50%       0.50000     2.000000  ...        1.000000  11693.500000\n",
              "75%       1.00000     4.000000  ...        1.000000  14541.500000\n",
              "max       1.00000    13.000000  ...        3.000000  31115.000000\n",
              "\n",
              "[8 rows x 8 columns]"
            ]
          },
          "metadata": {
            "tags": []
          },
          "execution_count": 157
        }
      ]
    },
    {
      "cell_type": "code",
      "metadata": {
        "colab": {
          "base_uri": "https://localhost:8080/",
          "height": 235
        },
        "id": "RVHDBCXx6iRX",
        "outputId": "82aa2db8-e2ca-4a18-ab50-0f2af6fc9e19"
      },
      "source": [
        "df.groupby('position').count()"
      ],
      "execution_count": null,
      "outputs": [
        {
          "output_type": "execute_result",
          "data": {
            "text/html": [
              "<div>\n",
              "<style scoped>\n",
              "    .dataframe tbody tr th:only-of-type {\n",
              "        vertical-align: middle;\n",
              "    }\n",
              "\n",
              "    .dataframe tbody tr th {\n",
              "        vertical-align: top;\n",
              "    }\n",
              "\n",
              "    .dataframe thead th {\n",
              "        text-align: right;\n",
              "    }\n",
              "</style>\n",
              "<table border=\"1\" class=\"dataframe\">\n",
              "  <thead>\n",
              "    <tr style=\"text-align: right;\">\n",
              "      <th></th>\n",
              "      <th>side</th>\n",
              "      <th>team</th>\n",
              "      <th>result</th>\n",
              "      <th>k</th>\n",
              "      <th>d</th>\n",
              "      <th>a</th>\n",
              "      <th>fb</th>\n",
              "      <th>teamdragkills</th>\n",
              "      <th>teambaronkills</th>\n",
              "      <th>totalgold</th>\n",
              "    </tr>\n",
              "    <tr>\n",
              "      <th>position</th>\n",
              "      <th></th>\n",
              "      <th></th>\n",
              "      <th></th>\n",
              "      <th></th>\n",
              "      <th></th>\n",
              "      <th></th>\n",
              "      <th></th>\n",
              "      <th></th>\n",
              "      <th></th>\n",
              "      <th></th>\n",
              "    </tr>\n",
              "  </thead>\n",
              "  <tbody>\n",
              "    <tr>\n",
              "      <th>ADC</th>\n",
              "      <td>238</td>\n",
              "      <td>238</td>\n",
              "      <td>238</td>\n",
              "      <td>238</td>\n",
              "      <td>238</td>\n",
              "      <td>238</td>\n",
              "      <td>238</td>\n",
              "      <td>238</td>\n",
              "      <td>238</td>\n",
              "      <td>238</td>\n",
              "    </tr>\n",
              "    <tr>\n",
              "      <th>Jungle</th>\n",
              "      <td>238</td>\n",
              "      <td>238</td>\n",
              "      <td>238</td>\n",
              "      <td>238</td>\n",
              "      <td>238</td>\n",
              "      <td>238</td>\n",
              "      <td>238</td>\n",
              "      <td>238</td>\n",
              "      <td>238</td>\n",
              "      <td>238</td>\n",
              "    </tr>\n",
              "    <tr>\n",
              "      <th>Middle</th>\n",
              "      <td>238</td>\n",
              "      <td>238</td>\n",
              "      <td>238</td>\n",
              "      <td>238</td>\n",
              "      <td>238</td>\n",
              "      <td>238</td>\n",
              "      <td>238</td>\n",
              "      <td>238</td>\n",
              "      <td>238</td>\n",
              "      <td>238</td>\n",
              "    </tr>\n",
              "    <tr>\n",
              "      <th>Support</th>\n",
              "      <td>238</td>\n",
              "      <td>238</td>\n",
              "      <td>238</td>\n",
              "      <td>238</td>\n",
              "      <td>238</td>\n",
              "      <td>238</td>\n",
              "      <td>238</td>\n",
              "      <td>238</td>\n",
              "      <td>238</td>\n",
              "      <td>238</td>\n",
              "    </tr>\n",
              "    <tr>\n",
              "      <th>Top</th>\n",
              "      <td>238</td>\n",
              "      <td>238</td>\n",
              "      <td>238</td>\n",
              "      <td>238</td>\n",
              "      <td>238</td>\n",
              "      <td>238</td>\n",
              "      <td>238</td>\n",
              "      <td>238</td>\n",
              "      <td>238</td>\n",
              "      <td>238</td>\n",
              "    </tr>\n",
              "  </tbody>\n",
              "</table>\n",
              "</div>"
            ],
            "text/plain": [
              "          side  team  result  ...  teamdragkills  teambaronkills  totalgold\n",
              "position                      ...                                          \n",
              "ADC        238   238     238  ...            238             238        238\n",
              "Jungle     238   238     238  ...            238             238        238\n",
              "Middle     238   238     238  ...            238             238        238\n",
              "Support    238   238     238  ...            238             238        238\n",
              "Top        238   238     238  ...            238             238        238\n",
              "\n",
              "[5 rows x 10 columns]"
            ]
          },
          "metadata": {
            "tags": []
          },
          "execution_count": 158
        }
      ]
    },
    {
      "cell_type": "code",
      "metadata": {
        "colab": {
          "base_uri": "https://localhost:8080/",
          "height": 824
        },
        "id": "UTsRBftTIFaY",
        "outputId": "53d57ef9-7921-43b5-ba46-82e81d4db809"
      },
      "source": [
        "df.groupby('team').count()"
      ],
      "execution_count": null,
      "outputs": [
        {
          "output_type": "execute_result",
          "data": {
            "text/html": [
              "<div>\n",
              "<style scoped>\n",
              "    .dataframe tbody tr th:only-of-type {\n",
              "        vertical-align: middle;\n",
              "    }\n",
              "\n",
              "    .dataframe tbody tr th {\n",
              "        vertical-align: top;\n",
              "    }\n",
              "\n",
              "    .dataframe thead th {\n",
              "        text-align: right;\n",
              "    }\n",
              "</style>\n",
              "<table border=\"1\" class=\"dataframe\">\n",
              "  <thead>\n",
              "    <tr style=\"text-align: right;\">\n",
              "      <th></th>\n",
              "      <th>side</th>\n",
              "      <th>position</th>\n",
              "      <th>result</th>\n",
              "      <th>k</th>\n",
              "      <th>d</th>\n",
              "      <th>a</th>\n",
              "      <th>fb</th>\n",
              "      <th>teamdragkills</th>\n",
              "      <th>teambaronkills</th>\n",
              "      <th>totalgold</th>\n",
              "    </tr>\n",
              "    <tr>\n",
              "      <th>team</th>\n",
              "      <th></th>\n",
              "      <th></th>\n",
              "      <th></th>\n",
              "      <th></th>\n",
              "      <th></th>\n",
              "      <th></th>\n",
              "      <th></th>\n",
              "      <th></th>\n",
              "      <th></th>\n",
              "      <th></th>\n",
              "    </tr>\n",
              "  </thead>\n",
              "  <tbody>\n",
              "    <tr>\n",
              "      <th>AHQ e-Sports Club</th>\n",
              "      <td>30</td>\n",
              "      <td>30</td>\n",
              "      <td>30</td>\n",
              "      <td>30</td>\n",
              "      <td>30</td>\n",
              "      <td>30</td>\n",
              "      <td>30</td>\n",
              "      <td>30</td>\n",
              "      <td>30</td>\n",
              "      <td>30</td>\n",
              "    </tr>\n",
              "    <tr>\n",
              "      <th>Cloud9</th>\n",
              "      <td>30</td>\n",
              "      <td>30</td>\n",
              "      <td>30</td>\n",
              "      <td>30</td>\n",
              "      <td>30</td>\n",
              "      <td>30</td>\n",
              "      <td>30</td>\n",
              "      <td>30</td>\n",
              "      <td>30</td>\n",
              "      <td>30</td>\n",
              "    </tr>\n",
              "    <tr>\n",
              "      <th>Clutch Gaming</th>\n",
              "      <td>65</td>\n",
              "      <td>65</td>\n",
              "      <td>65</td>\n",
              "      <td>65</td>\n",
              "      <td>65</td>\n",
              "      <td>65</td>\n",
              "      <td>65</td>\n",
              "      <td>65</td>\n",
              "      <td>65</td>\n",
              "      <td>65</td>\n",
              "    </tr>\n",
              "    <tr>\n",
              "      <th>Damwon Gaming</th>\n",
              "      <td>90</td>\n",
              "      <td>90</td>\n",
              "      <td>90</td>\n",
              "      <td>90</td>\n",
              "      <td>90</td>\n",
              "      <td>90</td>\n",
              "      <td>90</td>\n",
              "      <td>90</td>\n",
              "      <td>90</td>\n",
              "      <td>90</td>\n",
              "    </tr>\n",
              "    <tr>\n",
              "      <th>DetonatioN FocusMe</th>\n",
              "      <td>20</td>\n",
              "      <td>20</td>\n",
              "      <td>20</td>\n",
              "      <td>20</td>\n",
              "      <td>20</td>\n",
              "      <td>20</td>\n",
              "      <td>20</td>\n",
              "      <td>20</td>\n",
              "      <td>20</td>\n",
              "      <td>20</td>\n",
              "    </tr>\n",
              "    <tr>\n",
              "      <th>Flamengo</th>\n",
              "      <td>25</td>\n",
              "      <td>25</td>\n",
              "      <td>25</td>\n",
              "      <td>25</td>\n",
              "      <td>25</td>\n",
              "      <td>25</td>\n",
              "      <td>25</td>\n",
              "      <td>25</td>\n",
              "      <td>25</td>\n",
              "      <td>25</td>\n",
              "    </tr>\n",
              "    <tr>\n",
              "      <th>Fnatic</th>\n",
              "      <td>50</td>\n",
              "      <td>50</td>\n",
              "      <td>50</td>\n",
              "      <td>50</td>\n",
              "      <td>50</td>\n",
              "      <td>50</td>\n",
              "      <td>50</td>\n",
              "      <td>50</td>\n",
              "      <td>50</td>\n",
              "      <td>50</td>\n",
              "    </tr>\n",
              "    <tr>\n",
              "      <th>Funplus Phoenix</th>\n",
              "      <td>90</td>\n",
              "      <td>90</td>\n",
              "      <td>90</td>\n",
              "      <td>90</td>\n",
              "      <td>90</td>\n",
              "      <td>90</td>\n",
              "      <td>90</td>\n",
              "      <td>90</td>\n",
              "      <td>90</td>\n",
              "      <td>90</td>\n",
              "    </tr>\n",
              "    <tr>\n",
              "      <th>G2 Esports</th>\n",
              "      <td>90</td>\n",
              "      <td>90</td>\n",
              "      <td>90</td>\n",
              "      <td>90</td>\n",
              "      <td>90</td>\n",
              "      <td>90</td>\n",
              "      <td>90</td>\n",
              "      <td>90</td>\n",
              "      <td>90</td>\n",
              "      <td>90</td>\n",
              "    </tr>\n",
              "    <tr>\n",
              "      <th>GAM Esports</th>\n",
              "      <td>30</td>\n",
              "      <td>30</td>\n",
              "      <td>30</td>\n",
              "      <td>30</td>\n",
              "      <td>30</td>\n",
              "      <td>30</td>\n",
              "      <td>30</td>\n",
              "      <td>30</td>\n",
              "      <td>30</td>\n",
              "      <td>30</td>\n",
              "    </tr>\n",
              "    <tr>\n",
              "      <th>Griffin</th>\n",
              "      <td>55</td>\n",
              "      <td>55</td>\n",
              "      <td>55</td>\n",
              "      <td>55</td>\n",
              "      <td>55</td>\n",
              "      <td>55</td>\n",
              "      <td>55</td>\n",
              "      <td>55</td>\n",
              "      <td>55</td>\n",
              "      <td>55</td>\n",
              "    </tr>\n",
              "    <tr>\n",
              "      <th>Hong Kong Attitude</th>\n",
              "      <td>70</td>\n",
              "      <td>70</td>\n",
              "      <td>70</td>\n",
              "      <td>70</td>\n",
              "      <td>70</td>\n",
              "      <td>70</td>\n",
              "      <td>70</td>\n",
              "      <td>70</td>\n",
              "      <td>70</td>\n",
              "      <td>70</td>\n",
              "    </tr>\n",
              "    <tr>\n",
              "      <th>Invictus Gaming</th>\n",
              "      <td>70</td>\n",
              "      <td>70</td>\n",
              "      <td>70</td>\n",
              "      <td>70</td>\n",
              "      <td>70</td>\n",
              "      <td>70</td>\n",
              "      <td>70</td>\n",
              "      <td>70</td>\n",
              "      <td>70</td>\n",
              "      <td>70</td>\n",
              "    </tr>\n",
              "    <tr>\n",
              "      <th>Isurus Gaming</th>\n",
              "      <td>40</td>\n",
              "      <td>40</td>\n",
              "      <td>40</td>\n",
              "      <td>40</td>\n",
              "      <td>40</td>\n",
              "      <td>40</td>\n",
              "      <td>40</td>\n",
              "      <td>40</td>\n",
              "      <td>40</td>\n",
              "      <td>40</td>\n",
              "    </tr>\n",
              "    <tr>\n",
              "      <th>J Team</th>\n",
              "      <td>30</td>\n",
              "      <td>30</td>\n",
              "      <td>30</td>\n",
              "      <td>30</td>\n",
              "      <td>30</td>\n",
              "      <td>30</td>\n",
              "      <td>30</td>\n",
              "      <td>30</td>\n",
              "      <td>30</td>\n",
              "      <td>30</td>\n",
              "    </tr>\n",
              "    <tr>\n",
              "      <th>Lowkey Esports</th>\n",
              "      <td>40</td>\n",
              "      <td>40</td>\n",
              "      <td>40</td>\n",
              "      <td>40</td>\n",
              "      <td>40</td>\n",
              "      <td>40</td>\n",
              "      <td>40</td>\n",
              "      <td>40</td>\n",
              "      <td>40</td>\n",
              "      <td>40</td>\n",
              "    </tr>\n",
              "    <tr>\n",
              "      <th>MEGA Esports</th>\n",
              "      <td>20</td>\n",
              "      <td>20</td>\n",
              "      <td>20</td>\n",
              "      <td>20</td>\n",
              "      <td>20</td>\n",
              "      <td>20</td>\n",
              "      <td>20</td>\n",
              "      <td>20</td>\n",
              "      <td>20</td>\n",
              "      <td>20</td>\n",
              "    </tr>\n",
              "    <tr>\n",
              "      <th>Mammoth</th>\n",
              "      <td>25</td>\n",
              "      <td>25</td>\n",
              "      <td>25</td>\n",
              "      <td>25</td>\n",
              "      <td>25</td>\n",
              "      <td>25</td>\n",
              "      <td>25</td>\n",
              "      <td>25</td>\n",
              "      <td>25</td>\n",
              "      <td>25</td>\n",
              "    </tr>\n",
              "    <tr>\n",
              "      <th>Royal Never Give Up</th>\n",
              "      <td>30</td>\n",
              "      <td>30</td>\n",
              "      <td>30</td>\n",
              "      <td>30</td>\n",
              "      <td>30</td>\n",
              "      <td>30</td>\n",
              "      <td>30</td>\n",
              "      <td>30</td>\n",
              "      <td>30</td>\n",
              "      <td>30</td>\n",
              "    </tr>\n",
              "    <tr>\n",
              "      <th>Royal Youth</th>\n",
              "      <td>40</td>\n",
              "      <td>40</td>\n",
              "      <td>40</td>\n",
              "      <td>40</td>\n",
              "      <td>40</td>\n",
              "      <td>40</td>\n",
              "      <td>40</td>\n",
              "      <td>40</td>\n",
              "      <td>40</td>\n",
              "      <td>40</td>\n",
              "    </tr>\n",
              "    <tr>\n",
              "      <th>SK Telecom T1</th>\n",
              "      <td>70</td>\n",
              "      <td>70</td>\n",
              "      <td>70</td>\n",
              "      <td>70</td>\n",
              "      <td>70</td>\n",
              "      <td>70</td>\n",
              "      <td>70</td>\n",
              "      <td>70</td>\n",
              "      <td>70</td>\n",
              "      <td>70</td>\n",
              "    </tr>\n",
              "    <tr>\n",
              "      <th>Splyce</th>\n",
              "      <td>100</td>\n",
              "      <td>100</td>\n",
              "      <td>100</td>\n",
              "      <td>100</td>\n",
              "      <td>100</td>\n",
              "      <td>100</td>\n",
              "      <td>100</td>\n",
              "      <td>100</td>\n",
              "      <td>100</td>\n",
              "      <td>100</td>\n",
              "    </tr>\n",
              "    <tr>\n",
              "      <th>Team Liquid</th>\n",
              "      <td>30</td>\n",
              "      <td>30</td>\n",
              "      <td>30</td>\n",
              "      <td>30</td>\n",
              "      <td>30</td>\n",
              "      <td>30</td>\n",
              "      <td>30</td>\n",
              "      <td>30</td>\n",
              "      <td>30</td>\n",
              "      <td>30</td>\n",
              "    </tr>\n",
              "    <tr>\n",
              "      <th>Unicorns of Love</th>\n",
              "      <td>50</td>\n",
              "      <td>50</td>\n",
              "      <td>50</td>\n",
              "      <td>50</td>\n",
              "      <td>50</td>\n",
              "      <td>50</td>\n",
              "      <td>50</td>\n",
              "      <td>50</td>\n",
              "      <td>50</td>\n",
              "      <td>50</td>\n",
              "    </tr>\n",
              "  </tbody>\n",
              "</table>\n",
              "</div>"
            ],
            "text/plain": [
              "                     side  position  ...  teambaronkills  totalgold\n",
              "team                                 ...                           \n",
              "AHQ e-Sports Club      30        30  ...              30         30\n",
              "Cloud9                 30        30  ...              30         30\n",
              "Clutch Gaming          65        65  ...              65         65\n",
              "Damwon Gaming          90        90  ...              90         90\n",
              "DetonatioN FocusMe     20        20  ...              20         20\n",
              "Flamengo               25        25  ...              25         25\n",
              "Fnatic                 50        50  ...              50         50\n",
              "Funplus Phoenix        90        90  ...              90         90\n",
              "G2 Esports             90        90  ...              90         90\n",
              "GAM Esports            30        30  ...              30         30\n",
              "Griffin                55        55  ...              55         55\n",
              "Hong Kong Attitude     70        70  ...              70         70\n",
              "Invictus Gaming        70        70  ...              70         70\n",
              "Isurus Gaming          40        40  ...              40         40\n",
              "J Team                 30        30  ...              30         30\n",
              "Lowkey Esports         40        40  ...              40         40\n",
              "MEGA Esports           20        20  ...              20         20\n",
              "Mammoth                25        25  ...              25         25\n",
              "Royal Never Give Up    30        30  ...              30         30\n",
              "Royal Youth            40        40  ...              40         40\n",
              "SK Telecom T1          70        70  ...              70         70\n",
              "Splyce                100       100  ...             100        100\n",
              "Team Liquid            30        30  ...              30         30\n",
              "Unicorns of Love       50        50  ...              50         50\n",
              "\n",
              "[24 rows x 10 columns]"
            ]
          },
          "metadata": {
            "tags": []
          },
          "execution_count": 159
        }
      ]
    },
    {
      "cell_type": "code",
      "metadata": {
        "colab": {
          "base_uri": "https://localhost:8080/",
          "height": 142
        },
        "id": "bDX5oju4aHtm",
        "outputId": "e7b92f0c-5c8b-4957-b01f-28c302567ae0"
      },
      "source": [
        "df.groupby('side').count()"
      ],
      "execution_count": null,
      "outputs": [
        {
          "output_type": "execute_result",
          "data": {
            "text/html": [
              "<div>\n",
              "<style scoped>\n",
              "    .dataframe tbody tr th:only-of-type {\n",
              "        vertical-align: middle;\n",
              "    }\n",
              "\n",
              "    .dataframe tbody tr th {\n",
              "        vertical-align: top;\n",
              "    }\n",
              "\n",
              "    .dataframe thead th {\n",
              "        text-align: right;\n",
              "    }\n",
              "</style>\n",
              "<table border=\"1\" class=\"dataframe\">\n",
              "  <thead>\n",
              "    <tr style=\"text-align: right;\">\n",
              "      <th></th>\n",
              "      <th>position</th>\n",
              "      <th>team</th>\n",
              "      <th>result</th>\n",
              "      <th>k</th>\n",
              "      <th>d</th>\n",
              "      <th>a</th>\n",
              "      <th>fb</th>\n",
              "      <th>teamdragkills</th>\n",
              "      <th>teambaronkills</th>\n",
              "      <th>totalgold</th>\n",
              "    </tr>\n",
              "    <tr>\n",
              "      <th>side</th>\n",
              "      <th></th>\n",
              "      <th></th>\n",
              "      <th></th>\n",
              "      <th></th>\n",
              "      <th></th>\n",
              "      <th></th>\n",
              "      <th></th>\n",
              "      <th></th>\n",
              "      <th></th>\n",
              "      <th></th>\n",
              "    </tr>\n",
              "  </thead>\n",
              "  <tbody>\n",
              "    <tr>\n",
              "      <th>Blue</th>\n",
              "      <td>595</td>\n",
              "      <td>595</td>\n",
              "      <td>595</td>\n",
              "      <td>595</td>\n",
              "      <td>595</td>\n",
              "      <td>595</td>\n",
              "      <td>595</td>\n",
              "      <td>595</td>\n",
              "      <td>595</td>\n",
              "      <td>595</td>\n",
              "    </tr>\n",
              "    <tr>\n",
              "      <th>Red</th>\n",
              "      <td>595</td>\n",
              "      <td>595</td>\n",
              "      <td>595</td>\n",
              "      <td>595</td>\n",
              "      <td>595</td>\n",
              "      <td>595</td>\n",
              "      <td>595</td>\n",
              "      <td>595</td>\n",
              "      <td>595</td>\n",
              "      <td>595</td>\n",
              "    </tr>\n",
              "  </tbody>\n",
              "</table>\n",
              "</div>"
            ],
            "text/plain": [
              "      position  team  result  ...  teamdragkills  teambaronkills  totalgold\n",
              "side                          ...                                          \n",
              "Blue       595   595     595  ...            595             595        595\n",
              "Red        595   595     595  ...            595             595        595\n",
              "\n",
              "[2 rows x 10 columns]"
            ]
          },
          "metadata": {
            "tags": []
          },
          "execution_count": 160
        }
      ]
    },
    {
      "cell_type": "markdown",
      "metadata": {
        "id": "bCMX6QBE6qzE"
      },
      "source": [
        "## Data Visualization"
      ]
    },
    {
      "cell_type": "code",
      "metadata": {
        "id": "cxsXztD669eC"
      },
      "source": [
        "import seaborn as sns"
      ],
      "execution_count": null,
      "outputs": []
    },
    {
      "cell_type": "code",
      "metadata": {
        "colab": {
          "base_uri": "https://localhost:8080/",
          "height": 279
        },
        "id": "gNMUrD04bsIw",
        "outputId": "84c02598-f238-4f0f-cccd-588e29455584"
      },
      "source": [
        "boxplot = sns.boxplot(x = 'position', y = 'k', data = df) "
      ],
      "execution_count": null,
      "outputs": [
        {
          "output_type": "display_data",
          "data": {
            "image/png": "[encoded data removed]",
            "text/plain": [
              "<Figure size 432x288 with 1 Axes>"
            ]
          },
          "metadata": {
            "tags": [],
            "needs_background": "light"
          }
        }
      ]
    },
    {
      "cell_type": "markdown",
      "metadata": {
        "id": "lBY1143snuT5"
      },
      "source": [
        "จากกราฟแสดงให้เห็นว่า ตำแหน่งทำสามารถสังหารศัตรูได้มากกว่าตำแหน่งอื่นๆในเกมคือ ADC รองลงมาคือ Middle ส่วน Top กับ Jungle มียอดที่ใกล้เคียงกัน และ Support มียอดที่น้อยที่สุด (ซึ่งถูกต้องแล้วเพราะ Support มีหน้าที่ช่วยเหลือ ADC หรือเพื่อนร่วมทีมตำแหน่งอื่นๆให้สังหารศัตรูได้)"
      ]
    },
    {
      "cell_type": "code",
      "metadata": {
        "colab": {
          "base_uri": "https://localhost:8080/",
          "height": 452
        },
        "id": "eHjNHI58QNz3",
        "outputId": "6f54f74c-77b3-4d39-a19d-f86a943df9f4"
      },
      "source": [
        "jointplot = sns.jointplot(data=df, x=\"totalgold\", y=\"k\", hue=\"position\")"
      ],
      "execution_count": null,
      "outputs": [
        {
          "output_type": "display_data",
          "data": {
            "image/png": "[encoded data removed]",
            "text/plain": [
              "<Figure size 432x432 with 3 Axes>"
            ]
          },
          "metadata": {
            "tags": [],
            "needs_background": "light"
          }
        }
      ]
    },
    {
      "cell_type": "markdown",
      "metadata": {
        "id": "kj-wwGyLpK8P"
      },
      "source": [
        "จากกราฟความสัมพันธ์ระหว่างยอดการสังหารตลอดเกมกับการเงินใน 15 นาทีแรก แสดงให้เห็นว่า ผู้เล่นตำแหน่ง Support จะมียอดการสังหารที่น้อย ทำให้การเงินน้อยตามไปด้วย ในขณะที่ตำแหน่ง ADC จะมียอดการสังหารที่สูง การเงินก็สูงตามไปด้วย"
      ]
    },
    {
      "cell_type": "code",
      "metadata": {
        "colab": {
          "base_uri": "https://localhost:8080/",
          "height": 383
        },
        "id": "ZQ29U3YXQ0Kh",
        "outputId": "c99f8aaf-3c84-44a5-cfc4-94b886c099ee"
      },
      "source": [
        "catplot = sns.catplot(x=\"totalgold\", y=\"side\", hue=\"result\", data=df)"
      ],
      "execution_count": null,
      "outputs": [
        {
          "output_type": "display_data",
          "data": {
            "image/png": "[encoded data removed]",
            "text/plain": [
              "<Figure size 402.375x360 with 1 Axes>"
            ]
          },
          "metadata": {
            "tags": [],
            "needs_background": "light"
          }
        }
      ]
    },
    {
      "cell_type": "markdown",
      "metadata": {
        "id": "EPJO9L5ssl42"
      },
      "source": [
        "จากกราฟความสัมพันธ์ระหว่างฝั่ง Blue และ Red กับการเงินใน 15 นาทีแรก แสดงให้เห็นว่า ทีมฝ่าย Blue มีโอกาสชนะมากกว่าฝ่าย Red และ ทีมมีการการเงินที่สูงก็ยิ่งมีโอกาสชนะ แต่ก็มีโอกาสแพ้อยู่บ้างเช่นกัน ทำให้การชนะเกมไม่ได้ขึ้นอยู่กับการได้เปรียบของการเงินใน 15 นาทีเสียทีเดียว"
      ]
    },
    {
      "cell_type": "code",
      "metadata": {
        "colab": {
          "base_uri": "https://localhost:8080/",
          "height": 1000
        },
        "id": "J0NTm4z7ASdW",
        "outputId": "42f0f62f-7ab8-488f-a823-596d822e994a"
      },
      "source": [
        "pairplot = sns.pairplot(data=df)"
      ],
      "execution_count": null,
      "outputs": [
        {
          "output_type": "display_data",
          "data": {
            "image/png": "[encoded data removed]",
            "text/plain": [
              "<Figure size 1440x1440 with 72 Axes>"
            ]
          },
          "metadata": {
            "tags": [],
            "needs_background": "light"
          }
        }
      ]
    },
    {
      "cell_type": "markdown",
      "metadata": {
        "id": "oas_Ft1KOGw9"
      },
      "source": [
        "## Seperate Data to Train and Test Set"
      ]
    },
    {
      "cell_type": "markdown",
      "metadata": {
        "id": "VaAWKKsKuPgE"
      },
      "source": [
        "แบ่งข้อมูลเป็น 2 ชุด โดยการแบ่งได้เปลี่ยนค่าฝั่ง Blue และ Red เป็น 0 และ 1 จากนั้นนำมาแบ่งโดยใช้ library จาก sklearn ทำการแบ่งจำนวน test_set เป็น 30% และ train_set เป็น 70% และทำการ random"
      ]
    },
    {
      "cell_type": "code",
      "metadata": {
        "id": "oQUC8GbSIBU2"
      },
      "source": [
        "df['side'].replace('Blue', 0,inplace=True)\n",
        "df['side'].replace('Red' , 1,inplace=True)"
      ],
      "execution_count": null,
      "outputs": []
    },
    {
      "cell_type": "code",
      "metadata": {
        "id": "WW_evu7wOMGZ"
      },
      "source": [
        "X = df[['side','k','d','a','fb','teamdragkills','teambaronkills','totalgold']]\n",
        "y = df['result']"
      ],
      "execution_count": null,
      "outputs": []
    },
    {
      "cell_type": "code",
      "metadata": {
        "id": "dviy7zDVCDap"
      },
      "source": [
        "from sklearn.model_selection import train_test_split\n",
        "X_train, X_test, y_train, y_test = train_test_split(X, y, test_size=0.3, random_state=42)"
      ],
      "execution_count": null,
      "outputs": []
    },
    {
      "cell_type": "code",
      "metadata": {
        "colab": {
          "base_uri": "https://localhost:8080/"
        },
        "id": "Y9MpUJDIPw4j",
        "outputId": "511632aa-f57d-4aa1-864d-59e9a097f7a1"
      },
      "source": [
        "print(X_train.shape)\n",
        "print(X_test.shape)"
      ],
      "execution_count": null,
      "outputs": [
        {
          "output_type": "stream",
          "text": [
            "(833, 8)\n",
            "(357, 8)\n"
          ],
          "name": "stdout"
        }
      ]
    },
    {
      "cell_type": "markdown",
      "metadata": {
        "id": "vXEcnV0wNeGb"
      },
      "source": [
        "##Feature Scaling"
      ]
    },
    {
      "cell_type": "markdown",
      "metadata": {
        "id": "7EqWN6XkvpLd"
      },
      "source": [
        "คือ การปรับคุณสมบัติต่างๆที่สามารถนำมาใช้กับปรับขนาดหรือค่าต่างๆได้ อย่างที่หยิบเลือกมาใช้คือ การลดขนาดให้เป็นมาตรฐานต่ำสุดสูงสุด (StandardScaler) เป็นการปรับขนาดหรือปรับมาตรฐาน min-max"
      ]
    },
    {
      "cell_type": "code",
      "metadata": {
        "id": "3UCOkOccNlJR"
      },
      "source": [
        "from sklearn.preprocessing import StandardScaler\n",
        "scale = StandardScaler()"
      ],
      "execution_count": null,
      "outputs": []
    },
    {
      "cell_type": "code",
      "metadata": {
        "id": "x5xVrVygNpv1"
      },
      "source": [
        "X_train = scale.fit_transform(X_train)\n",
        "X_test = scale.fit_transform(X_test)"
      ],
      "execution_count": null,
      "outputs": []
    },
    {
      "cell_type": "markdown",
      "metadata": {
        "id": "6YgUUgZd_qo0"
      },
      "source": [
        "## Model Compare"
      ]
    },
    {
      "cell_type": "markdown",
      "metadata": {
        "id": "YdAFBEa_v3fc"
      },
      "source": [
        "เลือก Model ในประเภท Classification Model มา 5 Model เพื่อทำการเปรียบเทียบกัน ดังนี้\r\n",
        " \r\n",
        "1. Decision Tree\r\n",
        "2. Logistic Regression\r\n",
        "3. Support Vector Machine\r\n",
        "4. Neural Network\r\n",
        "5. Random Forest"
      ]
    },
    {
      "cell_type": "markdown",
      "metadata": {
        "id": "2Eqk4WUpDf9-"
      },
      "source": [
        "### Decision Tree"
      ]
    },
    {
      "cell_type": "markdown",
      "metadata": {
        "id": "ALwyxF91Nv6u"
      },
      "source": [
        "#### Fit the Model"
      ]
    },
    {
      "cell_type": "markdown",
      "metadata": {
        "id": "bxiyHyBk5KeN"
      },
      "source": [
        "ทำการฝึกสอน Model โดยใช้ Train Set"
      ]
    },
    {
      "cell_type": "code",
      "metadata": {
        "id": "5wSIhu4DIw4K",
        "colab": {
          "base_uri": "https://localhost:8080/"
        },
        "outputId": "5c09d123-340a-4513-951b-890e95152244"
      },
      "source": [
        "from sklearn.tree import DecisionTreeClassifier\n",
        "tree = DecisionTreeClassifier(criterion=\"entropy\", max_depth=None)\n",
        "tree.fit(X_train,y_train)"
      ],
      "execution_count": null,
      "outputs": [
        {
          "output_type": "execute_result",
          "data": {
            "text/plain": [
              "DecisionTreeClassifier(ccp_alpha=0.0, class_weight=None, criterion='entropy',\n",
              "                       max_depth=None, max_features=None, max_leaf_nodes=None,\n",
              "                       min_impurity_decrease=0.0, min_impurity_split=None,\n",
              "                       min_samples_leaf=1, min_samples_split=2,\n",
              "                       min_weight_fraction_leaf=0.0, presort='deprecated',\n",
              "                       random_state=None, splitter='best')"
            ]
          },
          "metadata": {
            "tags": []
          },
          "execution_count": 172
        }
      ]
    },
    {
      "cell_type": "markdown",
      "metadata": {
        "id": "RopKaZIhKgx-"
      },
      "source": [
        "#### Save Model"
      ]
    },
    {
      "cell_type": "markdown",
      "metadata": {
        "id": "13WrmDu85Aou"
      },
      "source": [
        "ทำการเซฟโมเดลเก็บไว้ชื่อ finalize_tree.model"
      ]
    },
    {
      "cell_type": "code",
      "metadata": {
        "colab": {
          "base_uri": "https://localhost:8080/"
        },
        "id": "P-w58OP0KgPj",
        "outputId": "2e1a9de3-8856-4192-d12e-1a0c10344eca"
      },
      "source": [
        "from sklearn.externals import joblib\n",
        "joblib.dump(tree,'finalized_tree.model')"
      ],
      "execution_count": null,
      "outputs": [
        {
          "output_type": "execute_result",
          "data": {
            "text/plain": [
              "['finalized_tree.model']"
            ]
          },
          "metadata": {
            "tags": []
          },
          "execution_count": 173
        }
      ]
    },
    {
      "cell_type": "markdown",
      "metadata": {
        "id": "W8LaXMvOLAlg"
      },
      "source": [
        "#### Load and Predict Model"
      ]
    },
    {
      "cell_type": "markdown",
      "metadata": {
        "id": "KZ80zcb85RYW"
      },
      "source": [
        "ทำการนำ Model มา Predict กับ Test Set"
      ]
    },
    {
      "cell_type": "code",
      "metadata": {
        "id": "SbtwAnbyLDaF"
      },
      "source": [
        "finalized_tree = joblib.load('finalized_tree.model')"
      ],
      "execution_count": null,
      "outputs": []
    },
    {
      "cell_type": "code",
      "metadata": {
        "id": "jQ3z1GPcLpiL"
      },
      "source": [
        "prediction_tree = finalized_tree.predict(X_test)\n",
        "d = {'prediction':prediction_tree,'y_test':y_test}\n",
        "df_pred = pd.DataFrame(d)"
      ],
      "execution_count": null,
      "outputs": []
    },
    {
      "cell_type": "code",
      "metadata": {
        "id": "WoWfSq6ILzBu",
        "colab": {
          "base_uri": "https://localhost:8080/",
          "height": 204
        },
        "outputId": "63bdbcfa-cd48-4c9e-bfd3-62281faa9520"
      },
      "source": [
        "df_pred.head()"
      ],
      "execution_count": null,
      "outputs": [
        {
          "output_type": "execute_result",
          "data": {
            "text/html": [
              "<div>\n",
              "<style scoped>\n",
              "    .dataframe tbody tr th:only-of-type {\n",
              "        vertical-align: middle;\n",
              "    }\n",
              "\n",
              "    .dataframe tbody tr th {\n",
              "        vertical-align: top;\n",
              "    }\n",
              "\n",
              "    .dataframe thead th {\n",
              "        text-align: right;\n",
              "    }\n",
              "</style>\n",
              "<table border=\"1\" class=\"dataframe\">\n",
              "  <thead>\n",
              "    <tr style=\"text-align: right;\">\n",
              "      <th></th>\n",
              "      <th>prediction</th>\n",
              "      <th>y_test</th>\n",
              "    </tr>\n",
              "  </thead>\n",
              "  <tbody>\n",
              "    <tr>\n",
              "      <th>390</th>\n",
              "      <td>1</td>\n",
              "      <td>1</td>\n",
              "    </tr>\n",
              "    <tr>\n",
              "      <th>247</th>\n",
              "      <td>1</td>\n",
              "      <td>1</td>\n",
              "    </tr>\n",
              "    <tr>\n",
              "      <th>260</th>\n",
              "      <td>0</td>\n",
              "      <td>1</td>\n",
              "    </tr>\n",
              "    <tr>\n",
              "      <th>155</th>\n",
              "      <td>0</td>\n",
              "      <td>0</td>\n",
              "    </tr>\n",
              "    <tr>\n",
              "      <th>984</th>\n",
              "      <td>1</td>\n",
              "      <td>0</td>\n",
              "    </tr>\n",
              "  </tbody>\n",
              "</table>\n",
              "</div>"
            ],
            "text/plain": [
              "     prediction  y_test\n",
              "390           1       1\n",
              "247           1       1\n",
              "260           0       1\n",
              "155           0       0\n",
              "984           1       0"
            ]
          },
          "metadata": {
            "tags": []
          },
          "execution_count": 176
        }
      ]
    },
    {
      "cell_type": "code",
      "metadata": {
        "id": "PxSbsJ-LL5Ri",
        "colab": {
          "base_uri": "https://localhost:8080/"
        },
        "outputId": "968b9965-5b3e-4bdb-ad30-b26a5223ed94"
      },
      "source": [
        "df_pred[df_pred['prediction'] != df_pred['y_test']].count()"
      ],
      "execution_count": null,
      "outputs": [
        {
          "output_type": "execute_result",
          "data": {
            "text/plain": [
              "prediction    37\n",
              "y_test        37\n",
              "dtype: int64"
            ]
          },
          "metadata": {
            "tags": []
          },
          "execution_count": 177
        }
      ]
    },
    {
      "cell_type": "markdown",
      "metadata": {
        "id": "Tqx5ckgAMIE-"
      },
      "source": [
        "#### Summary"
      ]
    },
    {
      "cell_type": "code",
      "metadata": {
        "id": "IvabvTkW-51p",
        "colab": {
          "base_uri": "https://localhost:8080/"
        },
        "outputId": "294ab6d9-f2e5-4024-d3a1-0a807dfcf657"
      },
      "source": [
        "from sklearn.metrics import accuracy_score,classification_report,confusion_matrix\n",
        "print(confusion_matrix(y_test,prediction_tree))\n",
        "print('ACC',accuracy_score(y_test, prediction_tree))\n",
        "print(classification_report(y_test, prediction_tree))"
      ],
      "execution_count": null,
      "outputs": [
        {
          "output_type": "stream",
          "text": [
            "[[167  19]\n",
            " [ 18 153]]\n",
            "ACC 0.896358543417367\n",
            "              precision    recall  f1-score   support\n",
            "\n",
            "           0       0.90      0.90      0.90       186\n",
            "           1       0.89      0.89      0.89       171\n",
            "\n",
            "    accuracy                           0.90       357\n",
            "   macro avg       0.90      0.90      0.90       357\n",
            "weighted avg       0.90      0.90      0.90       357\n",
            "\n"
          ],
          "name": "stdout"
        }
      ]
    },
    {
      "cell_type": "markdown",
      "metadata": {
        "id": "WgH3Ql4qHcyA"
      },
      "source": [
        "จากการเทรนข้างต้น สามารถสรุป Model ออกมาเป็น Confusion Matrix ได้ดังนี้\r\n",
        "* True Positive : 167\r\n",
        "* False Negative : 19\r\n",
        "* False Positive : 18\r\n",
        "* True Negative : 153\r\n",
        "\r\n",
        "ได้ค่า ACC หรือ Accuracy ของข้อมูลออกมาเป็น 0.896358543417367"
      ]
    },
    {
      "cell_type": "markdown",
      "metadata": {
        "id": "suiBnVC95okP"
      },
      "source": [
        "Classification Report\r\n",
        "* Precision : ค่าวัดความแม่นยำของข้อมูล (พิจารณาแยกทีละคลาส)\r\n",
        "* Recall : ค่าวัดความถูกต้องของ Model (พิจารณาแยกทีละคลาส)\r\n",
        "* Accuracy : ค่าวัดความถูกต้องของ Model (พิจารณารวมทุกคลาส)\r\n",
        "* F1-Score : ค่าเฉลี่ยแบบ Harmonic Mean ระหว่าง Precision และ Recall (สร้าง F1 ขึ้นมาเพื่อเป็น Single Metric ที่วัดความสามารถของ Model)"
      ]
    },
    {
      "cell_type": "markdown",
      "metadata": {
        "id": "KHunAHyxEAbQ"
      },
      "source": [
        "### Logistic Regression"
      ]
    },
    {
      "cell_type": "markdown",
      "metadata": {
        "id": "l-zCYakNPuJ6"
      },
      "source": [
        "#### Fit the Model"
      ]
    },
    {
      "cell_type": "markdown",
      "metadata": {
        "id": "IojOMwZV7bVz"
      },
      "source": [
        "ทำการฝึกสอน Model โดยใช้ Train Set"
      ]
    },
    {
      "cell_type": "code",
      "metadata": {
        "id": "IyN_kXXCEF2R",
        "colab": {
          "base_uri": "https://localhost:8080/"
        },
        "outputId": "5d4d6313-0e2e-4c0b-bebb-d57c4aa526bc"
      },
      "source": [
        "from sklearn.linear_model import LogisticRegression\n",
        "lr = LogisticRegression()\n",
        "lr.fit(X_train,y_train)"
      ],
      "execution_count": null,
      "outputs": [
        {
          "output_type": "execute_result",
          "data": {
            "text/plain": [
              "LogisticRegression(C=1.0, class_weight=None, dual=False, fit_intercept=True,\n",
              "                   intercept_scaling=1, l1_ratio=None, max_iter=100,\n",
              "                   multi_class='auto', n_jobs=None, penalty='l2',\n",
              "                   random_state=None, solver='lbfgs', tol=0.0001, verbose=0,\n",
              "                   warm_start=False)"
            ]
          },
          "metadata": {
            "tags": []
          },
          "execution_count": 179
        }
      ]
    },
    {
      "cell_type": "markdown",
      "metadata": {
        "id": "jYyg66h1PwFR"
      },
      "source": [
        "#### Save Model"
      ]
    },
    {
      "cell_type": "markdown",
      "metadata": {
        "id": "tr_MmhD77fcr"
      },
      "source": [
        "ทำการเซฟโมเดลเก็บไว้ชื่อ finalize_lr.model"
      ]
    },
    {
      "cell_type": "code",
      "metadata": {
        "id": "WvXaJyDuP9OF",
        "colab": {
          "base_uri": "https://localhost:8080/"
        },
        "outputId": "bd6fb433-4f13-4108-bb9a-65b9670b06b2"
      },
      "source": [
        "from sklearn.externals import joblib\n",
        "joblib.dump(lr,'finalized_lr.model')"
      ],
      "execution_count": null,
      "outputs": [
        {
          "output_type": "execute_result",
          "data": {
            "text/plain": [
              "['finalized_lr.model']"
            ]
          },
          "metadata": {
            "tags": []
          },
          "execution_count": 180
        }
      ]
    },
    {
      "cell_type": "markdown",
      "metadata": {
        "id": "sO7Du069PyfS"
      },
      "source": [
        "#### Load and Predict Model"
      ]
    },
    {
      "cell_type": "markdown",
      "metadata": {
        "id": "Q2aIFhJj8zMD"
      },
      "source": [
        "ทำการนำ Model มา Predict กับ Test Set"
      ]
    },
    {
      "cell_type": "code",
      "metadata": {
        "id": "-cL6t9NlQE1l"
      },
      "source": [
        "finalized_lr = joblib.load('finalized_lr.model')"
      ],
      "execution_count": null,
      "outputs": []
    },
    {
      "cell_type": "code",
      "metadata": {
        "id": "q_sjkmSJQIEA"
      },
      "source": [
        "prediction_lr = finalized_lr.predict(X_test)\n",
        "d = {'prediction':prediction_lr,'y_test':y_test}\n",
        "df_pred = pd.DataFrame(d)"
      ],
      "execution_count": null,
      "outputs": []
    },
    {
      "cell_type": "code",
      "metadata": {
        "id": "LHvyFN7AQPVb",
        "colab": {
          "base_uri": "https://localhost:8080/",
          "height": 204
        },
        "outputId": "767a781c-72af-4973-b972-58526dca715b"
      },
      "source": [
        "df_pred.head()"
      ],
      "execution_count": null,
      "outputs": [
        {
          "output_type": "execute_result",
          "data": {
            "text/html": [
              "<div>\n",
              "<style scoped>\n",
              "    .dataframe tbody tr th:only-of-type {\n",
              "        vertical-align: middle;\n",
              "    }\n",
              "\n",
              "    .dataframe tbody tr th {\n",
              "        vertical-align: top;\n",
              "    }\n",
              "\n",
              "    .dataframe thead th {\n",
              "        text-align: right;\n",
              "    }\n",
              "</style>\n",
              "<table border=\"1\" class=\"dataframe\">\n",
              "  <thead>\n",
              "    <tr style=\"text-align: right;\">\n",
              "      <th></th>\n",
              "      <th>prediction</th>\n",
              "      <th>y_test</th>\n",
              "    </tr>\n",
              "  </thead>\n",
              "  <tbody>\n",
              "    <tr>\n",
              "      <th>390</th>\n",
              "      <td>1</td>\n",
              "      <td>1</td>\n",
              "    </tr>\n",
              "    <tr>\n",
              "      <th>247</th>\n",
              "      <td>1</td>\n",
              "      <td>1</td>\n",
              "    </tr>\n",
              "    <tr>\n",
              "      <th>260</th>\n",
              "      <td>1</td>\n",
              "      <td>1</td>\n",
              "    </tr>\n",
              "    <tr>\n",
              "      <th>155</th>\n",
              "      <td>0</td>\n",
              "      <td>0</td>\n",
              "    </tr>\n",
              "    <tr>\n",
              "      <th>984</th>\n",
              "      <td>0</td>\n",
              "      <td>0</td>\n",
              "    </tr>\n",
              "  </tbody>\n",
              "</table>\n",
              "</div>"
            ],
            "text/plain": [
              "     prediction  y_test\n",
              "390           1       1\n",
              "247           1       1\n",
              "260           1       1\n",
              "155           0       0\n",
              "984           0       0"
            ]
          },
          "metadata": {
            "tags": []
          },
          "execution_count": 183
        }
      ]
    },
    {
      "cell_type": "code",
      "metadata": {
        "id": "F3KT5kYQQTOw",
        "colab": {
          "base_uri": "https://localhost:8080/"
        },
        "outputId": "0c1bf7f4-debd-40ca-c213-412493d6f6db"
      },
      "source": [
        "df_pred[df_pred['prediction'] != df_pred['y_test']].count()"
      ],
      "execution_count": null,
      "outputs": [
        {
          "output_type": "execute_result",
          "data": {
            "text/plain": [
              "prediction    31\n",
              "y_test        31\n",
              "dtype: int64"
            ]
          },
          "metadata": {
            "tags": []
          },
          "execution_count": 184
        }
      ]
    },
    {
      "cell_type": "markdown",
      "metadata": {
        "id": "hBjZX2jXP2Rx"
      },
      "source": [
        "#### Summary"
      ]
    },
    {
      "cell_type": "code",
      "metadata": {
        "id": "IVluDHy4EL5Y",
        "colab": {
          "base_uri": "https://localhost:8080/"
        },
        "outputId": "117c0c50-11ce-48fb-9c5f-b2178b5abf8e"
      },
      "source": [
        "print(confusion_matrix(y_test,prediction_lr))\n",
        "print('ACC',accuracy_score(y_test, prediction_lr))\n",
        "print(classification_report(y_test, prediction_lr))"
      ],
      "execution_count": null,
      "outputs": [
        {
          "output_type": "stream",
          "text": [
            "[[169  17]\n",
            " [ 14 157]]\n",
            "ACC 0.9131652661064426\n",
            "              precision    recall  f1-score   support\n",
            "\n",
            "           0       0.92      0.91      0.92       186\n",
            "           1       0.90      0.92      0.91       171\n",
            "\n",
            "    accuracy                           0.91       357\n",
            "   macro avg       0.91      0.91      0.91       357\n",
            "weighted avg       0.91      0.91      0.91       357\n",
            "\n"
          ],
          "name": "stdout"
        }
      ]
    },
    {
      "cell_type": "markdown",
      "metadata": {
        "id": "s65RZEb2HaDW"
      },
      "source": [
        "จากการเทรนข้างต้น สามารถสรุป Model ออกมาเป็น Confusion Matrix ได้ดังนี้\r\n",
        "* True Positive : 169\r\n",
        "* False Negative : 17\r\n",
        "* False Positive : 14\r\n",
        "* True Negative : 157\r\n",
        "\r\n",
        "ได้ค่า ACC หรือ Accuracy ของข้อมูลออกมาเป็น 0.9131652661064426"
      ]
    },
    {
      "cell_type": "markdown",
      "metadata": {
        "id": "92revw0b89G7"
      },
      "source": [
        "Classification Report\r\n",
        "* Precision : ค่าวัดความแม่นยำของข้อมูล (พิจารณาแยกทีละคลาส)\r\n",
        "* Recall : ค่าวัดความถูกต้องของ Model (พิจารณาแยกทีละคลาส)\r\n",
        "* Accuracy : ค่าวัดความถูกต้องของ Model (พิจารณารวมทุกคลาส)\r\n",
        "* F1-Score : ค่าเฉลี่ยแบบ Harmonic Mean ระหว่าง Precision และ Recall (สร้าง F1 ขึ้นมาเพื่อเป็น Single Metric ที่วัดความสามารถของ Model)"
      ]
    },
    {
      "cell_type": "markdown",
      "metadata": {
        "id": "EIVUcww3TvJF"
      },
      "source": [
        "### Support Vector Mechine"
      ]
    },
    {
      "cell_type": "markdown",
      "metadata": {
        "id": "watfZDmRV9QD"
      },
      "source": [
        "#### Fit the Model"
      ]
    },
    {
      "cell_type": "markdown",
      "metadata": {
        "id": "iqqgarWr9NCy"
      },
      "source": [
        "ทำการฝึกสอน Model โดยใช้ Train Set"
      ]
    },
    {
      "cell_type": "code",
      "metadata": {
        "id": "thkYK1tvT0tz",
        "colab": {
          "base_uri": "https://localhost:8080/"
        },
        "outputId": "e323a9bc-01ee-49bc-95ca-87b8d5cde85e"
      },
      "source": [
        "from sklearn.svm import SVC\n",
        "svm = SVC(kernel='linear')\n",
        "svm.fit(X_train, y_train)"
      ],
      "execution_count": null,
      "outputs": [
        {
          "output_type": "execute_result",
          "data": {
            "text/plain": [
              "SVC(C=1.0, break_ties=False, cache_size=200, class_weight=None, coef0=0.0,\n",
              "    decision_function_shape='ovr', degree=3, gamma='scale', kernel='linear',\n",
              "    max_iter=-1, probability=False, random_state=None, shrinking=True,\n",
              "    tol=0.001, verbose=False)"
            ]
          },
          "metadata": {
            "tags": []
          },
          "execution_count": 186
        }
      ]
    },
    {
      "cell_type": "markdown",
      "metadata": {
        "id": "00e0Sv6UWB7d"
      },
      "source": [
        "#### Save Model"
      ]
    },
    {
      "cell_type": "markdown",
      "metadata": {
        "id": "LkqTxBrr9Qjx"
      },
      "source": [
        "ทำการเซฟโมเดลเก็บไว้ชื่อ finalize_svm.model"
      ]
    },
    {
      "cell_type": "code",
      "metadata": {
        "id": "_FYLcpBRW2F9",
        "colab": {
          "base_uri": "https://localhost:8080/"
        },
        "outputId": "9e9dfbc3-b4e7-47d9-bc71-784d4ab3ce66"
      },
      "source": [
        "from sklearn.externals import joblib\n",
        "joblib.dump(svm,'finalized_svm.model')"
      ],
      "execution_count": null,
      "outputs": [
        {
          "output_type": "execute_result",
          "data": {
            "text/plain": [
              "['finalized_svm.model']"
            ]
          },
          "metadata": {
            "tags": []
          },
          "execution_count": 187
        }
      ]
    },
    {
      "cell_type": "markdown",
      "metadata": {
        "id": "1Od_w6mrWEtj"
      },
      "source": [
        "#### Load and Predict Model"
      ]
    },
    {
      "cell_type": "markdown",
      "metadata": {
        "id": "3Yxr1Ny_9URt"
      },
      "source": [
        "ทำการนำ Model มา Predict กับ Test Set"
      ]
    },
    {
      "cell_type": "code",
      "metadata": {
        "id": "ujmsJ0_yW5nX"
      },
      "source": [
        "finalized_svm = joblib.load('finalized_svm.model')"
      ],
      "execution_count": null,
      "outputs": []
    },
    {
      "cell_type": "code",
      "metadata": {
        "id": "9ncFGzo1XBKo"
      },
      "source": [
        "prediction_svm = finalized_svm.predict(X_test)\n",
        "d = {'prediction':prediction_svm,'y_test':y_test}\n",
        "df_pred = pd.DataFrame(d)"
      ],
      "execution_count": null,
      "outputs": []
    },
    {
      "cell_type": "code",
      "metadata": {
        "id": "FemAmYZFXJ5c",
        "colab": {
          "base_uri": "https://localhost:8080/",
          "height": 204
        },
        "outputId": "de74c4c8-5ecf-4114-cf7e-cda49b1cc96a"
      },
      "source": [
        "df_pred.head()"
      ],
      "execution_count": null,
      "outputs": [
        {
          "output_type": "execute_result",
          "data": {
            "text/html": [
              "<div>\n",
              "<style scoped>\n",
              "    .dataframe tbody tr th:only-of-type {\n",
              "        vertical-align: middle;\n",
              "    }\n",
              "\n",
              "    .dataframe tbody tr th {\n",
              "        vertical-align: top;\n",
              "    }\n",
              "\n",
              "    .dataframe thead th {\n",
              "        text-align: right;\n",
              "    }\n",
              "</style>\n",
              "<table border=\"1\" class=\"dataframe\">\n",
              "  <thead>\n",
              "    <tr style=\"text-align: right;\">\n",
              "      <th></th>\n",
              "      <th>prediction</th>\n",
              "      <th>y_test</th>\n",
              "    </tr>\n",
              "  </thead>\n",
              "  <tbody>\n",
              "    <tr>\n",
              "      <th>390</th>\n",
              "      <td>1</td>\n",
              "      <td>1</td>\n",
              "    </tr>\n",
              "    <tr>\n",
              "      <th>247</th>\n",
              "      <td>1</td>\n",
              "      <td>1</td>\n",
              "    </tr>\n",
              "    <tr>\n",
              "      <th>260</th>\n",
              "      <td>1</td>\n",
              "      <td>1</td>\n",
              "    </tr>\n",
              "    <tr>\n",
              "      <th>155</th>\n",
              "      <td>0</td>\n",
              "      <td>0</td>\n",
              "    </tr>\n",
              "    <tr>\n",
              "      <th>984</th>\n",
              "      <td>0</td>\n",
              "      <td>0</td>\n",
              "    </tr>\n",
              "  </tbody>\n",
              "</table>\n",
              "</div>"
            ],
            "text/plain": [
              "     prediction  y_test\n",
              "390           1       1\n",
              "247           1       1\n",
              "260           1       1\n",
              "155           0       0\n",
              "984           0       0"
            ]
          },
          "metadata": {
            "tags": []
          },
          "execution_count": 190
        }
      ]
    },
    {
      "cell_type": "code",
      "metadata": {
        "id": "EhxUJI1eXM4h",
        "colab": {
          "base_uri": "https://localhost:8080/"
        },
        "outputId": "98134815-a38e-42f3-f9db-a37da889ef79"
      },
      "source": [
        "df_pred[df_pred['prediction'] != df_pred['y_test']].count()"
      ],
      "execution_count": null,
      "outputs": [
        {
          "output_type": "execute_result",
          "data": {
            "text/plain": [
              "prediction    31\n",
              "y_test        31\n",
              "dtype: int64"
            ]
          },
          "metadata": {
            "tags": []
          },
          "execution_count": 191
        }
      ]
    },
    {
      "cell_type": "markdown",
      "metadata": {
        "id": "W0SxVwtQWIYc"
      },
      "source": [
        "#### Summary"
      ]
    },
    {
      "cell_type": "code",
      "metadata": {
        "id": "P0_OtZp_UI7-",
        "colab": {
          "base_uri": "https://localhost:8080/"
        },
        "outputId": "9cafe41d-8542-4573-dae0-e356d6a82ed5"
      },
      "source": [
        "print(confusion_matrix(y_test,prediction_svm))\n",
        "print('ACC',accuracy_score(y_test, prediction_svm))\n",
        "print(classification_report(y_test, prediction_svm))"
      ],
      "execution_count": null,
      "outputs": [
        {
          "output_type": "stream",
          "text": [
            "[[165  21]\n",
            " [ 10 161]]\n",
            "ACC 0.9131652661064426\n",
            "              precision    recall  f1-score   support\n",
            "\n",
            "           0       0.94      0.89      0.91       186\n",
            "           1       0.88      0.94      0.91       171\n",
            "\n",
            "    accuracy                           0.91       357\n",
            "   macro avg       0.91      0.91      0.91       357\n",
            "weighted avg       0.91      0.91      0.91       357\n",
            "\n"
          ],
          "name": "stdout"
        }
      ]
    },
    {
      "cell_type": "markdown",
      "metadata": {
        "id": "dkcYUYTgHXCN"
      },
      "source": [
        "จากการเทรนข้างต้น สามารถสรุป Model ออกมาเป็น Confusion Matrix ได้ดังนี้\r\n",
        "* True Positive : 166\r\n",
        "* False Negative : 21\r\n",
        "* False Positive : 10\r\n",
        "* True Negative : 161\r\n",
        "\r\n",
        "ได้ค่า ACC หรือ Accuracy ของข้อมูลออกมาเป็น 0.9131652661064426"
      ]
    },
    {
      "cell_type": "markdown",
      "metadata": {
        "id": "AsHp4_Jt9Yhs"
      },
      "source": [
        "Classification Report\r\n",
        "* Precision : ค่าวัดความแม่นยำของข้อมูล (พิจารณาแยกทีละคลาส)\r\n",
        "* Recall : ค่าวัดความถูกต้องของ Model (พิจารณาแยกทีละคลาส)\r\n",
        "* Accuracy : ค่าวัดความถูกต้องของ Model (พิจารณารวมทุกคลาส)\r\n",
        "* F1-Score : ค่าเฉลี่ยแบบ Harmonic Mean ระหว่าง Precision และ Recall (สร้าง F1 ขึ้นมาเพื่อเป็น Single Metric ที่วัดความสามารถของ Model)"
      ]
    },
    {
      "cell_type": "markdown",
      "metadata": {
        "id": "wDcPk-11U9YW"
      },
      "source": [
        "### Neural Network"
      ]
    },
    {
      "cell_type": "markdown",
      "metadata": {
        "id": "UPkSgv0vYTTe"
      },
      "source": [
        "#### Fit the Model"
      ]
    },
    {
      "cell_type": "markdown",
      "metadata": {
        "id": "EFPfEVlC99Hn"
      },
      "source": [
        "ทำการฝึกสอน Model โดยใช้ Train Set"
      ]
    },
    {
      "cell_type": "code",
      "metadata": {
        "id": "4Xx9u1cXVCVO",
        "colab": {
          "base_uri": "https://localhost:8080/"
        },
        "outputId": "6ce5ce0e-c65b-4664-d4bb-206b6c8da59e"
      },
      "source": [
        "from sklearn.neural_network import MLPClassifier\n",
        "nn = MLPClassifier(hidden_layer_sizes=(13,13,13),max_iter=500)\n",
        "nn.fit(X_train,y_train)"
      ],
      "execution_count": null,
      "outputs": [
        {
          "output_type": "stream",
          "text": [
            "/usr/local/lib/python3.6/dist-packages/sklearn/neural_network/_multilayer_perceptron.py:571: ConvergenceWarning: Stochastic Optimizer: Maximum iterations (500) reached and the optimization hasn't converged yet.\n",
            "  % self.max_iter, ConvergenceWarning)\n"
          ],
          "name": "stderr"
        },
        {
          "output_type": "execute_result",
          "data": {
            "text/plain": [
              "MLPClassifier(activation='relu', alpha=0.0001, batch_size='auto', beta_1=0.9,\n",
              "              beta_2=0.999, early_stopping=False, epsilon=1e-08,\n",
              "              hidden_layer_sizes=(13, 13, 13), learning_rate='constant',\n",
              "              learning_rate_init=0.001, max_fun=15000, max_iter=500,\n",
              "              momentum=0.9, n_iter_no_change=10, nesterovs_momentum=True,\n",
              "              power_t=0.5, random_state=None, shuffle=True, solver='adam',\n",
              "              tol=0.0001, validation_fraction=0.1, verbose=False,\n",
              "              warm_start=False)"
            ]
          },
          "metadata": {
            "tags": []
          },
          "execution_count": 193
        }
      ]
    },
    {
      "cell_type": "markdown",
      "metadata": {
        "id": "iv6QtvdiYYrl"
      },
      "source": [
        "#### Save Model"
      ]
    },
    {
      "cell_type": "markdown",
      "metadata": {
        "id": "tvM1-4GA9_oP"
      },
      "source": [
        "ทำการเซฟโมเดลเก็บไว้ชื่อ finalize_nn.model"
      ]
    },
    {
      "cell_type": "code",
      "metadata": {
        "id": "GwG5I06_ZEje",
        "colab": {
          "base_uri": "https://localhost:8080/"
        },
        "outputId": "dfe914a8-2fde-44b3-b0eb-a91343c8bc96"
      },
      "source": [
        "from sklearn.externals import joblib\n",
        "joblib.dump(nn,'finalized_nn.model')"
      ],
      "execution_count": null,
      "outputs": [
        {
          "output_type": "execute_result",
          "data": {
            "text/plain": [
              "['finalized_nn.model']"
            ]
          },
          "metadata": {
            "tags": []
          },
          "execution_count": 194
        }
      ]
    },
    {
      "cell_type": "markdown",
      "metadata": {
        "id": "DPboaOwPYa28"
      },
      "source": [
        "#### Load and Predict Model"
      ]
    },
    {
      "cell_type": "markdown",
      "metadata": {
        "id": "etxnxs8n-DZO"
      },
      "source": [
        "ทำการนำ Model มา Predict กับ Test Set"
      ]
    },
    {
      "cell_type": "code",
      "metadata": {
        "id": "8tvihdGUZHsU"
      },
      "source": [
        "finalized_nn = joblib.load('finalized_nn.model')"
      ],
      "execution_count": null,
      "outputs": []
    },
    {
      "cell_type": "code",
      "metadata": {
        "id": "k9ReODUzZQMj"
      },
      "source": [
        "prediction_nn = finalized_nn.predict(X_test)\n",
        "d = {'prediction':prediction_nn,'y_test':y_test}\n",
        "df_pred = pd.DataFrame(d)"
      ],
      "execution_count": null,
      "outputs": []
    },
    {
      "cell_type": "code",
      "metadata": {
        "id": "H9D3Jt1GZVsM",
        "colab": {
          "base_uri": "https://localhost:8080/",
          "height": 204
        },
        "outputId": "340badab-68ad-4190-cbaa-a38def949146"
      },
      "source": [
        "df_pred.head()"
      ],
      "execution_count": null,
      "outputs": [
        {
          "output_type": "execute_result",
          "data": {
            "text/html": [
              "<div>\n",
              "<style scoped>\n",
              "    .dataframe tbody tr th:only-of-type {\n",
              "        vertical-align: middle;\n",
              "    }\n",
              "\n",
              "    .dataframe tbody tr th {\n",
              "        vertical-align: top;\n",
              "    }\n",
              "\n",
              "    .dataframe thead th {\n",
              "        text-align: right;\n",
              "    }\n",
              "</style>\n",
              "<table border=\"1\" class=\"dataframe\">\n",
              "  <thead>\n",
              "    <tr style=\"text-align: right;\">\n",
              "      <th></th>\n",
              "      <th>prediction</th>\n",
              "      <th>y_test</th>\n",
              "    </tr>\n",
              "  </thead>\n",
              "  <tbody>\n",
              "    <tr>\n",
              "      <th>390</th>\n",
              "      <td>1</td>\n",
              "      <td>1</td>\n",
              "    </tr>\n",
              "    <tr>\n",
              "      <th>247</th>\n",
              "      <td>1</td>\n",
              "      <td>1</td>\n",
              "    </tr>\n",
              "    <tr>\n",
              "      <th>260</th>\n",
              "      <td>0</td>\n",
              "      <td>1</td>\n",
              "    </tr>\n",
              "    <tr>\n",
              "      <th>155</th>\n",
              "      <td>0</td>\n",
              "      <td>0</td>\n",
              "    </tr>\n",
              "    <tr>\n",
              "      <th>984</th>\n",
              "      <td>0</td>\n",
              "      <td>0</td>\n",
              "    </tr>\n",
              "  </tbody>\n",
              "</table>\n",
              "</div>"
            ],
            "text/plain": [
              "     prediction  y_test\n",
              "390           1       1\n",
              "247           1       1\n",
              "260           0       1\n",
              "155           0       0\n",
              "984           0       0"
            ]
          },
          "metadata": {
            "tags": []
          },
          "execution_count": 197
        }
      ]
    },
    {
      "cell_type": "code",
      "metadata": {
        "id": "K87jVxufZW7m",
        "colab": {
          "base_uri": "https://localhost:8080/"
        },
        "outputId": "7e883691-658b-4123-beae-8f09f509a05d"
      },
      "source": [
        "df_pred[df_pred['prediction'] != df_pred['y_test']].count()"
      ],
      "execution_count": null,
      "outputs": [
        {
          "output_type": "execute_result",
          "data": {
            "text/plain": [
              "prediction    37\n",
              "y_test        37\n",
              "dtype: int64"
            ]
          },
          "metadata": {
            "tags": []
          },
          "execution_count": 198
        }
      ]
    },
    {
      "cell_type": "markdown",
      "metadata": {
        "id": "8kbbxvJPYfp_"
      },
      "source": [
        "#### Summary"
      ]
    },
    {
      "cell_type": "code",
      "metadata": {
        "id": "78m-Pp7TVoVm",
        "colab": {
          "base_uri": "https://localhost:8080/"
        },
        "outputId": "f0413824-e274-43f8-cf24-881ed635a452"
      },
      "source": [
        "print(confusion_matrix(y_test,prediction_nn))\n",
        "print('ACC',accuracy_score(y_test, prediction_nn))\n",
        "print(classification_report(y_test, prediction_nn))"
      ],
      "execution_count": null,
      "outputs": [
        {
          "output_type": "stream",
          "text": [
            "[[163  23]\n",
            " [ 14 157]]\n",
            "ACC 0.896358543417367\n",
            "              precision    recall  f1-score   support\n",
            "\n",
            "           0       0.92      0.88      0.90       186\n",
            "           1       0.87      0.92      0.89       171\n",
            "\n",
            "    accuracy                           0.90       357\n",
            "   macro avg       0.90      0.90      0.90       357\n",
            "weighted avg       0.90      0.90      0.90       357\n",
            "\n"
          ],
          "name": "stdout"
        }
      ]
    },
    {
      "cell_type": "markdown",
      "metadata": {
        "id": "VPpPIXMEHOzs"
      },
      "source": [
        "จากการเทรนข้างต้น สามารถสรุป Model ออกมาเป็น Confusion Matrix ได้ดังนี้\r\n",
        "* True Positive : 164\r\n",
        "* False Negative : 23\r\n",
        "* False Positive : 14\r\n",
        "* True Negative : 157\r\n",
        "\r\n",
        "ได้ค่า ACC หรือ Accuracy ของข้อมูลออกมาเป็น 0.896358543417367"
      ]
    },
    {
      "cell_type": "markdown",
      "metadata": {
        "id": "e2HJiZoy-H_D"
      },
      "source": [
        "Classification Report\r\n",
        "* Precision : ค่าวัดความแม่นยำของข้อมูล (พิจารณาแยกทีละคลาส)\r\n",
        "* Recall : ค่าวัดความถูกต้องของ Model (พิจารณาแยกทีละคลาส)\r\n",
        "* Accuracy : ค่าวัดความถูกต้องของ Model (พิจารณารวมทุกคลาส)\r\n",
        "* F1-Score : ค่าเฉลี่ยแบบ Harmonic Mean ระหว่าง Precision และ Recall (สร้าง F1 ขึ้นมาเพื่อเป็น Single Metric ที่วัดความสามารถของ Model)"
      ]
    },
    {
      "cell_type": "markdown",
      "metadata": {
        "id": "2xbRdt0SV6eQ"
      },
      "source": [
        "### Random Forest"
      ]
    },
    {
      "cell_type": "markdown",
      "metadata": {
        "id": "4GJIohQ3YjrG"
      },
      "source": [
        "#### Fit the Model"
      ]
    },
    {
      "cell_type": "markdown",
      "metadata": {
        "id": "Y29is7EU-Q2n"
      },
      "source": [
        "ทำการฝึกสอน Model โดยใช้ Train Set"
      ]
    },
    {
      "cell_type": "code",
      "metadata": {
        "id": "JEd7CaTTYewX",
        "colab": {
          "base_uri": "https://localhost:8080/"
        },
        "outputId": "b0fa820e-9a88-48a8-bde5-47a6343655da"
      },
      "source": [
        "from sklearn.ensemble import RandomForestClassifier\n",
        "rf = RandomForestClassifier(n_estimators = 100)  \n",
        "rf.fit(X_train, y_train)"
      ],
      "execution_count": null,
      "outputs": [
        {
          "output_type": "execute_result",
          "data": {
            "text/plain": [
              "RandomForestClassifier(bootstrap=True, ccp_alpha=0.0, class_weight=None,\n",
              "                       criterion='gini', max_depth=None, max_features='auto',\n",
              "                       max_leaf_nodes=None, max_samples=None,\n",
              "                       min_impurity_decrease=0.0, min_impurity_split=None,\n",
              "                       min_samples_leaf=1, min_samples_split=2,\n",
              "                       min_weight_fraction_leaf=0.0, n_estimators=100,\n",
              "                       n_jobs=None, oob_score=False, random_state=None,\n",
              "                       verbose=0, warm_start=False)"
            ]
          },
          "metadata": {
            "tags": []
          },
          "execution_count": 200
        }
      ]
    },
    {
      "cell_type": "markdown",
      "metadata": {
        "id": "ILgLUg6RYqUq"
      },
      "source": [
        "#### Save Model"
      ]
    },
    {
      "cell_type": "markdown",
      "metadata": {
        "id": "0xj9oAK4-SrM"
      },
      "source": [
        "ทำการเซฟโมเดลเก็บไว้ชื่อ finalize_rf.model"
      ]
    },
    {
      "cell_type": "code",
      "metadata": {
        "id": "PJnF8Ox4abYO",
        "colab": {
          "base_uri": "https://localhost:8080/"
        },
        "outputId": "21fc7cf8-2a73-422b-c6b8-3ec503bedbcd"
      },
      "source": [
        "from sklearn.externals import joblib\n",
        "joblib.dump(rf,'finalized_rf.model')"
      ],
      "execution_count": null,
      "outputs": [
        {
          "output_type": "execute_result",
          "data": {
            "text/plain": [
              "['finalized_rf.model']"
            ]
          },
          "metadata": {
            "tags": []
          },
          "execution_count": 201
        }
      ]
    },
    {
      "cell_type": "markdown",
      "metadata": {
        "id": "xPtmhWnzYtty"
      },
      "source": [
        "#### Load and Predict Model"
      ]
    },
    {
      "cell_type": "markdown",
      "metadata": {
        "id": "ZJd7d6yQ-Vz4"
      },
      "source": [
        "ทำการนำ Model มา Predict กับ Test Set"
      ]
    },
    {
      "cell_type": "code",
      "metadata": {
        "id": "vXcK2UKValMz"
      },
      "source": [
        "finalized_rf = joblib.load('finalized_rf.model')"
      ],
      "execution_count": null,
      "outputs": []
    },
    {
      "cell_type": "code",
      "metadata": {
        "id": "Wb68_1DEGbbv"
      },
      "source": [
        "prediction_rf = finalized_rf.predict(X_test)\n",
        "d = {'prediction':prediction_rf,'y_test':y_test}\n",
        "df_pred = pd.DataFrame(d)"
      ],
      "execution_count": null,
      "outputs": []
    },
    {
      "cell_type": "code",
      "metadata": {
        "id": "hT1TEbQvGgSt",
        "colab": {
          "base_uri": "https://localhost:8080/",
          "height": 204
        },
        "outputId": "2499c789-0c4b-4871-a6a4-1f5ce04596cf"
      },
      "source": [
        "df_pred.head()"
      ],
      "execution_count": null,
      "outputs": [
        {
          "output_type": "execute_result",
          "data": {
            "text/html": [
              "<div>\n",
              "<style scoped>\n",
              "    .dataframe tbody tr th:only-of-type {\n",
              "        vertical-align: middle;\n",
              "    }\n",
              "\n",
              "    .dataframe tbody tr th {\n",
              "        vertical-align: top;\n",
              "    }\n",
              "\n",
              "    .dataframe thead th {\n",
              "        text-align: right;\n",
              "    }\n",
              "</style>\n",
              "<table border=\"1\" class=\"dataframe\">\n",
              "  <thead>\n",
              "    <tr style=\"text-align: right;\">\n",
              "      <th></th>\n",
              "      <th>prediction</th>\n",
              "      <th>y_test</th>\n",
              "    </tr>\n",
              "  </thead>\n",
              "  <tbody>\n",
              "    <tr>\n",
              "      <th>390</th>\n",
              "      <td>1</td>\n",
              "      <td>1</td>\n",
              "    </tr>\n",
              "    <tr>\n",
              "      <th>247</th>\n",
              "      <td>1</td>\n",
              "      <td>1</td>\n",
              "    </tr>\n",
              "    <tr>\n",
              "      <th>260</th>\n",
              "      <td>1</td>\n",
              "      <td>1</td>\n",
              "    </tr>\n",
              "    <tr>\n",
              "      <th>155</th>\n",
              "      <td>0</td>\n",
              "      <td>0</td>\n",
              "    </tr>\n",
              "    <tr>\n",
              "      <th>984</th>\n",
              "      <td>0</td>\n",
              "      <td>0</td>\n",
              "    </tr>\n",
              "  </tbody>\n",
              "</table>\n",
              "</div>"
            ],
            "text/plain": [
              "     prediction  y_test\n",
              "390           1       1\n",
              "247           1       1\n",
              "260           1       1\n",
              "155           0       0\n",
              "984           0       0"
            ]
          },
          "metadata": {
            "tags": []
          },
          "execution_count": 204
        }
      ]
    },
    {
      "cell_type": "code",
      "metadata": {
        "id": "nkYXUvBgGjUQ",
        "colab": {
          "base_uri": "https://localhost:8080/"
        },
        "outputId": "a0d26b1a-ec51-48dd-f800-a084e53fcd80"
      },
      "source": [
        "df_pred[df_pred['prediction'] != df_pred['y_test']].count()"
      ],
      "execution_count": null,
      "outputs": [
        {
          "output_type": "execute_result",
          "data": {
            "text/plain": [
              "prediction    29\n",
              "y_test        29\n",
              "dtype: int64"
            ]
          },
          "metadata": {
            "tags": []
          },
          "execution_count": 205
        }
      ]
    },
    {
      "cell_type": "markdown",
      "metadata": {
        "id": "dWcNhzUqY0Zh"
      },
      "source": [
        "#### Summary"
      ]
    },
    {
      "cell_type": "code",
      "metadata": {
        "id": "4Et8M8pNZQ2T",
        "colab": {
          "base_uri": "https://localhost:8080/"
        },
        "outputId": "dc15abba-8365-449c-fe1b-3353e21f02d3"
      },
      "source": [
        "print(confusion_matrix(y_test,prediction_rf))\n",
        "print('ACC ',accuracy_score(y_test, prediction_rf))\n",
        "print(classification_report(y_test, prediction_rf))"
      ],
      "execution_count": null,
      "outputs": [
        {
          "output_type": "stream",
          "text": [
            "[[165  21]\n",
            " [  8 163]]\n",
            "ACC  0.9187675070028011\n",
            "              precision    recall  f1-score   support\n",
            "\n",
            "           0       0.95      0.89      0.92       186\n",
            "           1       0.89      0.95      0.92       171\n",
            "\n",
            "    accuracy                           0.92       357\n",
            "   macro avg       0.92      0.92      0.92       357\n",
            "weighted avg       0.92      0.92      0.92       357\n",
            "\n"
          ],
          "name": "stdout"
        }
      ]
    },
    {
      "cell_type": "markdown",
      "metadata": {
        "id": "tKof4gQjG_8e"
      },
      "source": [
        "จากการเทรนข้างต้น สามารถสรุป Model ออกมาเป็น Confusion Matrix ได้ดังนี้\r\n",
        "* True Positive : 165\r\n",
        "* False Negative : 21\r\n",
        "* False Positive : 8\r\n",
        "* True Negative : 163\r\n",
        "\r\n",
        "ได้ค่า ACC หรือ Accuracy ของข้อมูลออกมาเป็น 0.9187675070028011"
      ]
    },
    {
      "cell_type": "markdown",
      "metadata": {
        "id": "83bV29Dg-Y4p"
      },
      "source": [
        "Classification Report\r\n",
        "* Precision : ค่าวัดความแม่นยำของข้อมูล (พิจารณาแยกทีละคลาส)\r\n",
        "* Recall : ค่าวัดความถูกต้องของ Model (พิจารณาแยกทีละคลาส)\r\n",
        "* Accuracy : ค่าวัดความถูกต้องของ Model (พิจารณารวมทุกคลาส)\r\n",
        "* F1-Score : ค่าเฉลี่ยแบบ Harmonic Mean ระหว่าง Precision และ Recall (สร้าง F1 ขึ้นมาเพื่อเป็น Single Metric ที่วัดความสามารถของ Model)"
      ]
    },
    {
      "cell_type": "markdown",
      "metadata": {
        "id": "_3ogFm2nZfDk"
      },
      "source": [
        "## Ensemble"
      ]
    },
    {
      "cell_type": "markdown",
      "metadata": {
        "id": "bkROfKyu1-O5"
      },
      "source": [
        "### Select Model by using Cross Validation"
      ]
    },
    {
      "cell_type": "markdown",
      "metadata": {
        "id": "yKqmlxYF-c1-"
      },
      "source": [
        "เลือกโมเดลโดยการใช้ค่า Cross Validation"
      ]
    },
    {
      "cell_type": "code",
      "metadata": {
        "colab": {
          "base_uri": "https://localhost:8080/"
        },
        "id": "lN95ggMk2For",
        "outputId": "c4bc21cc-52b8-4893-f79a-012abc7307be"
      },
      "source": [
        "set_model = [tree, lr, svm, nn, rf]\n",
        "score_model = []\n",
        "for model in set_model:\n",
        "  score_model.append(cross_val_score(estimator=model,X=X_train,y=y_train,cv=10,scoring='accuracy'))"
      ],
      "execution_count": null,
      "outputs": [
        {
          "output_type": "stream",
          "text": [
            "/usr/local/lib/python3.6/dist-packages/sklearn/neural_network/_multilayer_perceptron.py:571: ConvergenceWarning: Stochastic Optimizer: Maximum iterations (500) reached and the optimization hasn't converged yet.\n",
            "  % self.max_iter, ConvergenceWarning)\n",
            "/usr/local/lib/python3.6/dist-packages/sklearn/neural_network/_multilayer_perceptron.py:571: ConvergenceWarning: Stochastic Optimizer: Maximum iterations (500) reached and the optimization hasn't converged yet.\n",
            "  % self.max_iter, ConvergenceWarning)\n",
            "/usr/local/lib/python3.6/dist-packages/sklearn/neural_network/_multilayer_perceptron.py:571: ConvergenceWarning: Stochastic Optimizer: Maximum iterations (500) reached and the optimization hasn't converged yet.\n",
            "  % self.max_iter, ConvergenceWarning)\n",
            "/usr/local/lib/python3.6/dist-packages/sklearn/neural_network/_multilayer_perceptron.py:571: ConvergenceWarning: Stochastic Optimizer: Maximum iterations (500) reached and the optimization hasn't converged yet.\n",
            "  % self.max_iter, ConvergenceWarning)\n",
            "/usr/local/lib/python3.6/dist-packages/sklearn/neural_network/_multilayer_perceptron.py:571: ConvergenceWarning: Stochastic Optimizer: Maximum iterations (500) reached and the optimization hasn't converged yet.\n",
            "  % self.max_iter, ConvergenceWarning)\n",
            "/usr/local/lib/python3.6/dist-packages/sklearn/neural_network/_multilayer_perceptron.py:571: ConvergenceWarning: Stochastic Optimizer: Maximum iterations (500) reached and the optimization hasn't converged yet.\n",
            "  % self.max_iter, ConvergenceWarning)\n",
            "/usr/local/lib/python3.6/dist-packages/sklearn/neural_network/_multilayer_perceptron.py:571: ConvergenceWarning: Stochastic Optimizer: Maximum iterations (500) reached and the optimization hasn't converged yet.\n",
            "  % self.max_iter, ConvergenceWarning)\n",
            "/usr/local/lib/python3.6/dist-packages/sklearn/neural_network/_multilayer_perceptron.py:571: ConvergenceWarning: Stochastic Optimizer: Maximum iterations (500) reached and the optimization hasn't converged yet.\n",
            "  % self.max_iter, ConvergenceWarning)\n",
            "/usr/local/lib/python3.6/dist-packages/sklearn/neural_network/_multilayer_perceptron.py:571: ConvergenceWarning: Stochastic Optimizer: Maximum iterations (500) reached and the optimization hasn't converged yet.\n",
            "  % self.max_iter, ConvergenceWarning)\n",
            "/usr/local/lib/python3.6/dist-packages/sklearn/neural_network/_multilayer_perceptron.py:571: ConvergenceWarning: Stochastic Optimizer: Maximum iterations (500) reached and the optimization hasn't converged yet.\n",
            "  % self.max_iter, ConvergenceWarning)\n"
          ],
          "name": "stderr"
        }
      ]
    },
    {
      "cell_type": "code",
      "metadata": {
        "id": "NLiP2mpb2V_6",
        "colab": {
          "base_uri": "https://localhost:8080/"
        },
        "outputId": "91b82864-5fb5-4ab4-a59c-c51bc5096760"
      },
      "source": [
        "for model in score_model:\n",
        "    print(model.mean())"
      ],
      "execution_count": null,
      "outputs": [
        {
          "output_type": "stream",
          "text": [
            "0.8654761904761905\n",
            "0.9148020654044752\n",
            "0.9124211130235228\n",
            "0.9051635111876075\n",
            "0.9147160068846816\n"
          ],
          "name": "stdout"
        }
      ]
    },
    {
      "cell_type": "markdown",
      "metadata": {
        "id": "7GZT1VCELHhr"
      },
      "source": [
        "ได้ค่า Cross Validation ของแต่ละ Model ออกมาเป็น\r\n",
        "* Decision Tree : 0.8654761904761905\r\n",
        "* Logistic Regression : 0.9148020654044752\r\n",
        "* Support Vector Machine : 0.9124211130235228\r\n",
        "* Neural Network : 0.9051635111876075\r\n",
        "* Random Forest : 0.9147160068846816"
      ]
    },
    {
      "cell_type": "markdown",
      "metadata": {
        "id": "W1nlfaGnfFz_"
      },
      "source": [
        "### Fit the Model"
      ]
    },
    {
      "cell_type": "code",
      "metadata": {
        "id": "oZ606zjVZslg"
      },
      "source": [
        "from sklearn.pipeline import Pipeline\n",
        "from sklearn.model_selection import cross_val_score\n",
        "from sklearn.ensemble import VotingClassifier"
      ],
      "execution_count": null,
      "outputs": []
    },
    {
      "cell_type": "markdown",
      "metadata": {
        "id": "VFzcO8ZCM7Gy"
      },
      "source": [
        "จากค่า Cross Validation ข้างต้นจึงเลือกโมเดล Logistic Regression, Support Vector Machine และ Random Forest มาใช้"
      ]
    },
    {
      "cell_type": "code",
      "metadata": {
        "id": "mRtx6H2zovEm"
      },
      "source": [
        "estimators=[\n",
        "            ('lr',lr),\n",
        "            ('svm',svm),\n",
        "            ('rf',rf),\n",
        "            ]\n",
        "ensemble = VotingClassifier(estimators, voting='hard')"
      ],
      "execution_count": null,
      "outputs": []
    },
    {
      "cell_type": "markdown",
      "metadata": {
        "id": "H8h8HYI2MAP-"
      },
      "source": [
        "ทำการฝึกสอน Model โดยใช้ Train Set"
      ]
    },
    {
      "cell_type": "code",
      "metadata": {
        "id": "pfIE472zpEpI",
        "colab": {
          "base_uri": "https://localhost:8080/"
        },
        "outputId": "fc03121f-65dd-4801-dfa1-66283b87bd2e"
      },
      "source": [
        "ensemble.fit(X_train, y_train)"
      ],
      "execution_count": null,
      "outputs": [
        {
          "output_type": "execute_result",
          "data": {
            "text/plain": [
              "VotingClassifier(estimators=[('lr',\n",
              "                              LogisticRegression(C=1.0, class_weight=None,\n",
              "                                                 dual=False, fit_intercept=True,\n",
              "                                                 intercept_scaling=1,\n",
              "                                                 l1_ratio=None, max_iter=100,\n",
              "                                                 multi_class='auto',\n",
              "                                                 n_jobs=None, penalty='l2',\n",
              "                                                 random_state=None,\n",
              "                                                 solver='lbfgs', tol=0.0001,\n",
              "                                                 verbose=0, warm_start=False)),\n",
              "                             ('svm',\n",
              "                              SVC(C=1.0, break_ties=False, cache_size=200,\n",
              "                                  class_weight=None, coef0=0.0,\n",
              "                                  d...\n",
              "                                                     criterion='gini',\n",
              "                                                     max_depth=None,\n",
              "                                                     max_features='auto',\n",
              "                                                     max_leaf_nodes=None,\n",
              "                                                     max_samples=None,\n",
              "                                                     min_impurity_decrease=0.0,\n",
              "                                                     min_impurity_split=None,\n",
              "                                                     min_samples_leaf=1,\n",
              "                                                     min_samples_split=2,\n",
              "                                                     min_weight_fraction_leaf=0.0,\n",
              "                                                     n_estimators=100,\n",
              "                                                     n_jobs=None,\n",
              "                                                     oob_score=False,\n",
              "                                                     random_state=None,\n",
              "                                                     verbose=0,\n",
              "                                                     warm_start=False))],\n",
              "                 flatten_transform=True, n_jobs=None, voting='hard',\n",
              "                 weights=None)"
            ]
          },
          "metadata": {
            "tags": []
          },
          "execution_count": 211
        }
      ]
    },
    {
      "cell_type": "markdown",
      "metadata": {
        "id": "ylXlwcG0fOyI"
      },
      "source": [
        "### Save Model"
      ]
    },
    {
      "cell_type": "markdown",
      "metadata": {
        "id": "0P4xKVGx-oFw"
      },
      "source": [
        "ทำการเซฟโมเดลเก็บไว้ชื่อ finalize_ensemble.model"
      ]
    },
    {
      "cell_type": "code",
      "metadata": {
        "id": "HyCXBB6icc9x",
        "colab": {
          "base_uri": "https://localhost:8080/"
        },
        "outputId": "e6c3a671-4e40-4963-b271-3e74bf17382a"
      },
      "source": [
        "from sklearn.externals import joblib\n",
        "joblib.dump(ensemble,'finalized_ensemble.model')"
      ],
      "execution_count": null,
      "outputs": [
        {
          "output_type": "execute_result",
          "data": {
            "text/plain": [
              "['finalized_ensemble.model']"
            ]
          },
          "metadata": {
            "tags": []
          },
          "execution_count": 212
        }
      ]
    },
    {
      "cell_type": "markdown",
      "metadata": {
        "id": "UBweBY8EfRWC"
      },
      "source": [
        "### Load and Predict Model"
      ]
    },
    {
      "cell_type": "markdown",
      "metadata": {
        "id": "Ol7Act98-sLw"
      },
      "source": [
        "ทำการนำ Model มา Predict กับ Test Set"
      ]
    },
    {
      "cell_type": "code",
      "metadata": {
        "id": "Kh103-lJcpDp"
      },
      "source": [
        "finalized_ensemble=joblib.load('finalized_ensemble.model')"
      ],
      "execution_count": null,
      "outputs": []
    },
    {
      "cell_type": "code",
      "metadata": {
        "id": "imqCxuUrcyuQ"
      },
      "source": [
        "prediction_ensemble = finalized_ensemble.predict(X_test)\n",
        "d = {'prediction':prediction_ensemble,'y_test':y_test}\n",
        "df_pred = pd.DataFrame(d)"
      ],
      "execution_count": null,
      "outputs": []
    },
    {
      "cell_type": "code",
      "metadata": {
        "id": "0hfVCkz2c7VE",
        "colab": {
          "base_uri": "https://localhost:8080/",
          "height": 204
        },
        "outputId": "462afb88-4ec0-47f8-c2ce-6b646e6cc986"
      },
      "source": [
        "df_pred.head()"
      ],
      "execution_count": null,
      "outputs": [
        {
          "output_type": "execute_result",
          "data": {
            "text/html": [
              "<div>\n",
              "<style scoped>\n",
              "    .dataframe tbody tr th:only-of-type {\n",
              "        vertical-align: middle;\n",
              "    }\n",
              "\n",
              "    .dataframe tbody tr th {\n",
              "        vertical-align: top;\n",
              "    }\n",
              "\n",
              "    .dataframe thead th {\n",
              "        text-align: right;\n",
              "    }\n",
              "</style>\n",
              "<table border=\"1\" class=\"dataframe\">\n",
              "  <thead>\n",
              "    <tr style=\"text-align: right;\">\n",
              "      <th></th>\n",
              "      <th>prediction</th>\n",
              "      <th>y_test</th>\n",
              "    </tr>\n",
              "  </thead>\n",
              "  <tbody>\n",
              "    <tr>\n",
              "      <th>390</th>\n",
              "      <td>1</td>\n",
              "      <td>1</td>\n",
              "    </tr>\n",
              "    <tr>\n",
              "      <th>247</th>\n",
              "      <td>1</td>\n",
              "      <td>1</td>\n",
              "    </tr>\n",
              "    <tr>\n",
              "      <th>260</th>\n",
              "      <td>1</td>\n",
              "      <td>1</td>\n",
              "    </tr>\n",
              "    <tr>\n",
              "      <th>155</th>\n",
              "      <td>0</td>\n",
              "      <td>0</td>\n",
              "    </tr>\n",
              "    <tr>\n",
              "      <th>984</th>\n",
              "      <td>0</td>\n",
              "      <td>0</td>\n",
              "    </tr>\n",
              "  </tbody>\n",
              "</table>\n",
              "</div>"
            ],
            "text/plain": [
              "     prediction  y_test\n",
              "390           1       1\n",
              "247           1       1\n",
              "260           1       1\n",
              "155           0       0\n",
              "984           0       0"
            ]
          },
          "metadata": {
            "tags": []
          },
          "execution_count": 215
        }
      ]
    },
    {
      "cell_type": "code",
      "metadata": {
        "id": "dpKeVYXWc9mZ",
        "colab": {
          "base_uri": "https://localhost:8080/"
        },
        "outputId": "034c7a97-d8e0-4277-a772-c4d9c5c5c938"
      },
      "source": [
        "df_pred[df_pred['prediction'] != df_pred['y_test']].count()"
      ],
      "execution_count": null,
      "outputs": [
        {
          "output_type": "execute_result",
          "data": {
            "text/plain": [
              "prediction    30\n",
              "y_test        30\n",
              "dtype: int64"
            ]
          },
          "metadata": {
            "tags": []
          },
          "execution_count": 216
        }
      ]
    },
    {
      "cell_type": "markdown",
      "metadata": {
        "id": "JWdvfxNzfV9B"
      },
      "source": [
        "### Summary"
      ]
    },
    {
      "cell_type": "code",
      "metadata": {
        "id": "Ah_DY5BWc_yz",
        "colab": {
          "base_uri": "https://localhost:8080/"
        },
        "outputId": "42e7a2de-389d-4161-dab7-c79534a4ce05"
      },
      "source": [
        "print(confusion_matrix(y_test,prediction_ensemble))\n",
        "print('ACC ',accuracy_score(y_test, prediction_ensemble))\n",
        "print(classification_report(y_test, prediction_ensemble))"
      ],
      "execution_count": null,
      "outputs": [
        {
          "output_type": "stream",
          "text": [
            "[[167  19]\n",
            " [ 11 160]]\n",
            "ACC  0.9159663865546218\n",
            "              precision    recall  f1-score   support\n",
            "\n",
            "           0       0.94      0.90      0.92       186\n",
            "           1       0.89      0.94      0.91       171\n",
            "\n",
            "    accuracy                           0.92       357\n",
            "   macro avg       0.92      0.92      0.92       357\n",
            "weighted avg       0.92      0.92      0.92       357\n",
            "\n"
          ],
          "name": "stdout"
        }
      ]
    },
    {
      "cell_type": "markdown",
      "metadata": {
        "id": "CQ7z_coqGnXF"
      },
      "source": [
        "จากการเทรนข้างต้น สามารถสรุป Model ออกมาเป็น Confusion Matrix ได้ดังนี้\r\n",
        "* True Positive : 167\r\n",
        "* False Negative : 19\r\n",
        "* False Positive : 21\r\n",
        "* True Negative : 160\r\n",
        "\r\n",
        "ได้ค่า ACC หรือ Accuracy ของข้อมูลออกมาเป็น 0.9159663865546218"
      ]
    },
    {
      "cell_type": "markdown",
      "metadata": {
        "id": "9bbfZO5D_ZP6"
      },
      "source": [
        "Classification Report\r\n",
        "* Precision : ค่าวัดความแม่นยำของข้อมูล (พิจารณาแยกทีละคลาส)\r\n",
        "* Recall : ค่าวัดความถูกต้องของ Model (พิจารณาแยกทีละคลาส)\r\n",
        "* Accuracy : ค่าวัดความถูกต้องของ Model (พิจารณารวมทุกคลาส)\r\n",
        "* F1-Score : ค่าเฉลี่ยแบบ Harmonic Mean ระหว่าง Precision และ Recall (สร้าง F1 ขึ้นมาเพื่อเป็น Single Metric ที่วัดความสามารถของ Model)"
      ]
    },
    {
      "cell_type": "markdown",
      "metadata": {
        "id": "CEviVLTIEGjn"
      },
      "source": [
        "## Result"
      ]
    },
    {
      "cell_type": "markdown",
      "metadata": {
        "id": "ewfEFV_aEBnV"
      },
      "source": [
        "Model ที่นำมาเทรน\r\n",
        "* Decision Tree : 0.8654761904761905\r\n",
        "* Logistic Regression : 0.9148020654044752\r\n",
        "* Support Vector Machine : 0.9124211130235228\r\n",
        "* Neural Network : 0.9051635111876075\r\n",
        "* Random Forest : 0.9147160068846816\r\n",
        "\r\n",
        "จากนั้นนำ Model ได้แก่ Logistic Regression, Support Vector Machine และ Random Forest มาทำ Ensemble : 0.9159663865546218\r\n",
        "\r\n",
        "สรุปผลคือรูปแบบที่ทำนายได้ดีที่สุดคือ **Ensemble**"
      ]
    }
  ]
}